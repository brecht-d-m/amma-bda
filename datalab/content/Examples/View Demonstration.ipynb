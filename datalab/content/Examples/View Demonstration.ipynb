{
 "cells": [
  {
   "cell_type": "markdown",
   "metadata": {},
   "source": [
    "Welcome to our datalab view demonstration.\n",
    "We have implemented a couple of different ways to view your notebooks:\n",
    "Full view: showing the entire notebook\n",
    "Code view: showing only code cells and output\n",
    "Text view: showing only markdown cells\n",
    "Text view with output: showing markdown cells and output\n",
    "\n",
    "If you can read this cells, that means you are in either full view or one of the text views."
   ]
  },
  {
   "cell_type": "code",
   "execution_count": 15,
   "metadata": {
    "collapsed": true
   },
   "outputs": [],
   "source": [
    "x = 10"
   ]
  },
  {
   "cell_type": "code",
   "execution_count": 16,
   "metadata": {
    "collapsed": false
   },
   "outputs": [],
   "source": [
    "def fibonnaci(n):\n",
    "  #If you can read this comment, you are in either full or code view\n",
    "  if n == 1 or n == 2:\n",
    "    return 1;\n",
    "  else:\n",
    "    return fibonnaci(n-1)+fibonnaci(n-2);"
   ]
  },
  {
   "cell_type": "code",
   "execution_count": 17,
   "metadata": {
    "collapsed": false
   },
   "outputs": [
    {
     "data": {
      "text/plain": [
       "55"
      ]
     },
     "execution_count": 17,
     "metadata": {},
     "output_type": "execute_result"
    }
   ],
   "source": [
    "fibonnaci(x)"
   ]
  },
  {
   "cell_type": "code",
   "execution_count": 18,
   "metadata": {
    "collapsed": false
   },
   "outputs": [
    {
     "name": "stdout",
     "output_type": "stream",
     "text": [
      "This is the output line of a code cell, if you can read this but not see  the pritn statement, you are in text + output view\n"
     ]
    }
   ],
   "source": [
    "print \"This is the output line of a code cell, if you can read this but not see  the pritn statement, you are in text + output view\""
   ]
  },
  {
   "cell_type": "markdown",
   "metadata": {},
   "source": [
    "Changing Views:\n",
    "Views can be changed in the notebook by selecting the desired view from the dragdown menu in the upper-left corner"
   ]
  },
  {
   "cell_type": "markdown",
   "metadata": {},
   "source": [
    "Opening a notebook in a certain view: \n",
    "This can be done in the working tree by selecting the desired view from the dragdown menu on the right-hand side of the current folder path.\n",
    "Alternatively, the views are available through "
   ]
  },
  {
   "cell_type": "markdown",
   "metadata": {},
   "source": []
  },
  {
   "cell_type": "code",
   "execution_count": null,
   "metadata": {
    "collapsed": true
   },
   "outputs": [],
   "source": []
  }
 ],
 "metadata": {
  "kernelspec": {
   "display_name": "Python 2",
   "language": "python",
   "name": "python2"
  },
  "language_info": {
   "codemirror_mode": {
    "name": "ipython",
    "version": 2
   },
   "file_extension": ".py",
   "mimetype": "text/x-python",
   "name": "python",
   "nbconvert_exporter": "python",
   "pygments_lexer": "ipython2",
   "version": "2.7.9"
  }
 },
 "nbformat": 4,
 "nbformat_minor": 0
}
