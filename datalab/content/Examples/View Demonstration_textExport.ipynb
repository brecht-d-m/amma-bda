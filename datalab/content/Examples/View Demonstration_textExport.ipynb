{
 "cells": [
  {
   "cell_type": "markdown",
   "metadata": {},
   "source": [
    "Welcome to our datalab view demonstration.\n",
    "We have implemented a couple of different ways to view your notebooks:\n",
    "Full view: showing the entire notebook\n",
    "Code view: showing only code cells and output\n",
    "Text view: showing only markdown cells\n",
    "Text view with output: showing markdown cells and output\n",
    "\n",
    "If you can read this cells, that means you are in either full view or one of the text views."
   ]
  },
  {
   "cell_type": "markdown",
   "metadata": {},
   "source": [
    "Changing Views:\n",
    "Views can be changed in the notebook by selecting the desired view from the dragdown menu in the upper-left corner"
   ]
  },
  {
   "cell_type": "markdown",
   "metadata": {},
   "source": [
    "Opening a notebook in a certain view: \n",
    "This can be done in the working tree by selecting the desired view from the dragdown menu on the right-hand side of the current folder path.\n",
    "Alternatively, the views are available through the url of the notebook:\n",
    "\n",
    "URL_NOTEBOOK?view=fullView\n",
    "\n",
    "URL_NOTEBOOK?view=codeView\n",
    "\n",
    "URL_NOTEBOOK?view=textView\n",
    "\n",
    "URL_NOTEBOOK?view=textOutputView"
   ]
  },
  {
   "cell_type": "markdown",
   "metadata": {},
   "source": []
  }
 ],
 "metadata": {
  "kernelspec": {
   "display_name": "Python 2",
   "language": "python",
   "name": "python2"
  },
  "language_info": {
   "codemirror_mode": {
    "name": "ipython",
    "version": 2
   },
   "file_extension": ".py",
   "mimetype": "text/x-python",
   "name": "python",
   "nbconvert_exporter": "python",
   "pygments_lexer": "ipython2",
   "version": "2.7.9"
  }
 },
 "nbformat": 4,
 "nbformat_minor": 0
}
