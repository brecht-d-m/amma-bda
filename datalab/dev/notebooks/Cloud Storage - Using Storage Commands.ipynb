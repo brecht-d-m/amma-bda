{
 "cells": [
  {
   "cell_type": "markdown",
   "metadata": {},
   "source": [
    "# Cloud Storage - Using Storage Commands\n",
    "\n",
    "DataLab provides a number of cell magics to simplify accessing data in Google Cloud Storage. In this notebook we will show how to use these.\n",
    "\n",
    "The following storage magics will be discussed:\n",
    "\n",
    "* %storage copy\n",
    "* %storage create\n",
    "* %storage delete\n",
    "* %storage list\n",
    "* %storage read\n",
    "* %storage view\n",
    "* %storage write\n",
    "\n",
    "\n",
    "Related Links:\n",
    "\n",
    "* [Cloud Storage](https://cloud.google.com/storage/)\n",
    "\n",
    "----\n",
    "\n",
    "NOTE:\n",
    "\n",
    "* If you're new to notebooks, or want to check out additional samples, check out the full [list](..) of notebooks."
   ]
  },
  {
   "cell_type": "markdown",
   "metadata": {},
   "source": [
    "We will first look at how to create a bucket, as we will need one to illustrate most of the other magics. We use %storage create for this, and can specify the names of one or more buckets. Let's create a single bucket: "
   ]
  },
  {
   "cell_type": "code",
   "execution_count": 1,
   "metadata": {
    "collapsed": false
   },
   "outputs": [],
   "source": [
    "%storage create gs://datalab-magic"
   ]
  },
  {
   "cell_type": "markdown",
   "metadata": {},
   "source": [
    "Now we can list the buckets available and should see our new bucket:"
   ]
  },
  {
   "cell_type": "code",
   "execution_count": 2,
   "metadata": {
    "collapsed": false
   },
   "outputs": [
    {
     "data": {
      "text/html": [
       "<table><tr><th>Bucket</th><th>Created</th></tr><tr><td>gs://data-studio-team-datalab</td><td>2015-08-24 23:17:37.461000+00:00</td></tr><tr><td>gs://data-studio-team-ipython</td><td>2014-12-15 19:04:05.029000+00:00</td></tr><tr><td>gs://data-studio-team-notebooks</td><td>2014-08-23 18:09:53.599000+00:00</td></tr><tr><td>gs://datalab-dashboards</td><td>2015-08-17 22:07:03.981000+00:00</td></tr><tr><td>gs://datalab-magic</td><td>2015-09-29 22:58:10.092000+00:00</td></tr><tr><td>gs://datastudio-dataflow</td><td>2015-03-17 20:40:15.032000+00:00</td></tr><tr><td>gs://datastudio-sample-logs</td><td>2014-06-21 03:06:47.331000+00:00</td></tr><tr><td>gs://datastudio-test</td><td>2015-05-26 21:23:57.365000+00:00</td></tr><tr><td>gs://us.artifacts.data-studio-team.appspot.com</td><td>2015-08-05 03:03:09.942000+00:00</td></tr><tr><td>gs://vm-config.data-studio-team.appspot.com</td><td>2015-08-22 04:21:38.611000+00:00</td></tr><tr><td>gs://vm-containers.data-studio-team.appspot.com</td><td>2015-08-22 04:21:42.889000+00:00</td></tr></table>"
      ],
      "text/plain": [
       "<IPython.core.display.HTML object>"
      ]
     },
     "execution_count": 2,
     "metadata": {},
     "output_type": "execute_result"
    }
   ],
   "source": [
    "%storage list"
   ]
  },
  {
   "cell_type": "markdown",
   "metadata": {},
   "source": [
    "We can specify the bucket to list if we want to view its contents. Ours should be empty:"
   ]
  },
  {
   "cell_type": "code",
   "execution_count": 3,
   "metadata": {
    "collapsed": false
   },
   "outputs": [
    {
     "data": {
      "text/html": [],
      "text/plain": [
       "<IPython.core.display.HTML object>"
      ]
     },
     "execution_count": 3,
     "metadata": {},
     "output_type": "execute_result"
    }
   ],
   "source": [
    "%storage list gs://datalab-magic"
   ]
  },
  {
   "cell_type": "markdown",
   "metadata": {},
   "source": [
    "Let's create an item in the bucket. We'll create a text file named hello.txt and put the string \"Hello world!\" in it. The easiest way to do this is to first assign the contents we want to a Python variable:"
   ]
  },
  {
   "cell_type": "code",
   "execution_count": 4,
   "metadata": {
    "collapsed": false
   },
   "outputs": [],
   "source": [
    "message = 'Hello world!'"
   ]
  },
  {
   "cell_type": "markdown",
   "metadata": {},
   "source": [
    "Then we can write the variable to the file:"
   ]
  },
  {
   "cell_type": "code",
   "execution_count": 5,
   "metadata": {
    "collapsed": false
   },
   "outputs": [],
   "source": [
    "%storage write message gs://datalab-magic/hello.txt"
   ]
  },
  {
   "cell_type": "markdown",
   "metadata": {},
   "source": [
    "Now when we list the contents of the bucket we should see the file:"
   ]
  },
  {
   "cell_type": "code",
   "execution_count": 6,
   "metadata": {
    "collapsed": false
   },
   "outputs": [
    {
     "data": {
      "text/html": [
       "<table><tr><th>Name</th><th>Type</th><th>Size</th><th>Updated</th></tr><tr><td>hello.txt</td><td>text/plain</td><td>12</td><td>2015-09-29 22:58:12.106000+00:00</td></tr></table>"
      ],
      "text/plain": [
       "<IPython.core.display.HTML object>"
      ]
     },
     "execution_count": 6,
     "metadata": {},
     "output_type": "execute_result"
    }
   ],
   "source": [
    "%storage list gs://datalab-magic"
   ]
  },
  {
   "cell_type": "markdown",
   "metadata": {},
   "source": [
    "We can view the contents:"
   ]
  },
  {
   "cell_type": "code",
   "execution_count": 7,
   "metadata": {
    "collapsed": false
   },
   "outputs": [
    {
     "data": {
      "text/plain": [
       "'Hello world!'"
      ]
     },
     "execution_count": 7,
     "metadata": {},
     "output_type": "execute_result"
    }
   ],
   "source": [
    "%storage view gs://datalab-magic/hello.txt"
   ]
  },
  {
   "cell_type": "markdown",
   "metadata": {},
   "source": [
    "Or read the contents and assign back to a Python variable:"
   ]
  },
  {
   "cell_type": "code",
   "execution_count": 8,
   "metadata": {
    "collapsed": false
   },
   "outputs": [],
   "source": [
    "%storage read gs://datalab-magic/hello.txt message2"
   ]
  },
  {
   "cell_type": "code",
   "execution_count": 9,
   "metadata": {
    "collapsed": false
   },
   "outputs": [
    {
     "name": "stdout",
     "output_type": "stream",
     "text": [
      "Hello world!\n"
     ]
    }
   ],
   "source": [
    "print message2"
   ]
  },
  {
   "cell_type": "markdown",
   "metadata": {},
   "source": [
    "Copying is easy too:"
   ]
  },
  {
   "cell_type": "code",
   "execution_count": 10,
   "metadata": {
    "collapsed": false
   },
   "outputs": [],
   "source": [
    "%storage copy gs://datalab-magic/hello.txt gs://datalab-magic/copy.txt"
   ]
  },
  {
   "cell_type": "code",
   "execution_count": 11,
   "metadata": {
    "collapsed": false
   },
   "outputs": [
    {
     "data": {
      "text/plain": [
       "'Hello world!'"
      ]
     },
     "execution_count": 11,
     "metadata": {},
     "output_type": "execute_result"
    }
   ],
   "source": [
    "%storage view gs://datalab-magic/copy.txt"
   ]
  },
  {
   "cell_type": "markdown",
   "metadata": {},
   "source": [
    "Note that wildchars are supported in the source argument of a %storage copy, or the target argument of a %storage delete."
   ]
  },
  {
   "cell_type": "markdown",
   "metadata": {},
   "source": [
    "Finally, let's clean up. We need to first delete the contents of the bucket and then the bucket itself. We'll make use of wildchars for the first step:"
   ]
  },
  {
   "cell_type": "code",
   "execution_count": 12,
   "metadata": {
    "collapsed": false
   },
   "outputs": [],
   "source": [
    "%storage delete gs://datalab-magic/*"
   ]
  },
  {
   "cell_type": "code",
   "execution_count": 13,
   "metadata": {
    "collapsed": false
   },
   "outputs": [],
   "source": [
    "%storage delete gs://datalab-magic"
   ]
  },
  {
   "cell_type": "markdown",
   "metadata": {},
   "source": [
    "Let's verify that it is gone:"
   ]
  },
  {
   "cell_type": "code",
   "execution_count": 14,
   "metadata": {
    "collapsed": false
   },
   "outputs": [
    {
     "data": {
      "text/html": [
       "<table><tr><th>Bucket</th><th>Created</th></tr><tr><td>gs://data-studio-team-datalab</td><td>2015-08-24 23:17:37.461000+00:00</td></tr><tr><td>gs://data-studio-team-ipython</td><td>2014-12-15 19:04:05.029000+00:00</td></tr><tr><td>gs://data-studio-team-notebooks</td><td>2014-08-23 18:09:53.599000+00:00</td></tr><tr><td>gs://datalab-dashboards</td><td>2015-08-17 22:07:03.981000+00:00</td></tr><tr><td>gs://datastudio-dataflow</td><td>2015-03-17 20:40:15.032000+00:00</td></tr><tr><td>gs://datastudio-sample-logs</td><td>2014-06-21 03:06:47.331000+00:00</td></tr><tr><td>gs://datastudio-test</td><td>2015-05-26 21:23:57.365000+00:00</td></tr><tr><td>gs://us.artifacts.data-studio-team.appspot.com</td><td>2015-08-05 03:03:09.942000+00:00</td></tr><tr><td>gs://vm-config.data-studio-team.appspot.com</td><td>2015-08-22 04:21:38.611000+00:00</td></tr><tr><td>gs://vm-containers.data-studio-team.appspot.com</td><td>2015-08-22 04:21:42.889000+00:00</td></tr></table>"
      ],
      "text/plain": [
       "<IPython.core.display.HTML object>"
      ]
     },
     "execution_count": 14,
     "metadata": {},
     "output_type": "execute_result"
    }
   ],
   "source": [
    "%storage list"
   ]
  },
  {
   "cell_type": "markdown",
   "metadata": {},
   "source": [
    "And we're done!"
   ]
  },
  {
   "cell_type": "code",
   "execution_count": null,
   "metadata": {
    "collapsed": false
   },
   "outputs": [],
   "source": []
  }
 ],
 "metadata": {
  "kernelspec": {
   "display_name": "Python 2",
   "language": "python",
   "name": "python2"
  },
  "language_info": {
   "codemirror_mode": {
    "name": "ipython",
    "version": 2
   },
   "file_extension": ".py",
   "mimetype": "text/x-python",
   "name": "python",
   "nbconvert_exporter": "python",
   "pygments_lexer": "ipython2",
   "version": "2.7.9"
  }
 },
 "nbformat": 4,
 "nbformat_minor": 0
}
