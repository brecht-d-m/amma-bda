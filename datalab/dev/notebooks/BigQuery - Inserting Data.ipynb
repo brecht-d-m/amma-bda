{
 "cells": [
  {
   "cell_type": "markdown",
   "metadata": {},
   "source": [
    "# BigQuery - Inserting Data in a DataFrame into a Table\n",
    "\n",
    "This notebook demonstrates how to stream in data from a Pandas dataframe into a BiqQuery table.\n",
    "\n",
    "### In this notebook you will\n",
    "* Create a Pandas dataframe containing some stock price data\n",
    "* Learn how to make some adjustments to a Pandas dataframe to include the index as a column and make sure columns have the right types\n",
    "* Infer a BigQuery table schema from the adjusted Pandas dataframe\n",
    "* Create a BigQuery table with the inferred schema\n",
    "* Upload the records from the Pandas dataframe to the BigQuery table\n",
    "\n",
    "Related Links:\n",
    "\n",
    "* [BigQuery](https://cloud.google.com/bigquery/)\n",
    "* Python [Pandas](http://pandas.pydata.org/) for data analysis\n",
    "\n",
    "----\n",
    "\n",
    "NOTE:\n",
    "\n",
    "* If you're new to notebooks, or want need an introduction to using BigQuery, check out the full [list](..) of notebooks.\n"
   ]
  },
  {
   "cell_type": "code",
   "execution_count": 1,
   "metadata": {
    "collapsed": false
   },
   "outputs": [],
   "source": [
    "import datetime\n",
    "import gcp.bigquery as bq\n",
    "import pandas.io.data as web\n",
    "import time"
   ]
  },
  {
   "cell_type": "markdown",
   "metadata": {},
   "source": [
    "# Sample Data"
   ]
  },
  {
   "cell_type": "markdown",
   "metadata": {},
   "source": [
    "First we need some data; we can easily get a pandas dataframe containing Google stock price data (using the Google Finance APIs, via the pandas DataReader class):"
   ]
  },
  {
   "cell_type": "code",
   "execution_count": 2,
   "metadata": {
    "collapsed": false
   },
   "outputs": [
    {
     "data": {
      "text/html": [
       "<div>\n",
       "<table border=\"1\" class=\"dataframe\">\n",
       "  <thead>\n",
       "    <tr style=\"text-align: right;\">\n",
       "      <th></th>\n",
       "      <th>Open</th>\n",
       "      <th>High</th>\n",
       "      <th>Low</th>\n",
       "      <th>Close</th>\n",
       "      <th>Volume</th>\n",
       "    </tr>\n",
       "    <tr>\n",
       "      <th>Date</th>\n",
       "      <th></th>\n",
       "      <th></th>\n",
       "      <th></th>\n",
       "      <th></th>\n",
       "      <th></th>\n",
       "    </tr>\n",
       "  </thead>\n",
       "  <tbody>\n",
       "    <tr>\n",
       "      <th>2013-01-02</th>\n",
       "      <td>360.07</td>\n",
       "      <td>363.86</td>\n",
       "      <td>358.63</td>\n",
       "      <td>361.99</td>\n",
       "      <td>2542268</td>\n",
       "    </tr>\n",
       "    <tr>\n",
       "      <th>2013-01-03</th>\n",
       "      <td>362.83</td>\n",
       "      <td>366.33</td>\n",
       "      <td>360.72</td>\n",
       "      <td>362.20</td>\n",
       "      <td>2318140</td>\n",
       "    </tr>\n",
       "    <tr>\n",
       "      <th>2013-01-04</th>\n",
       "      <td>365.03</td>\n",
       "      <td>371.11</td>\n",
       "      <td>364.20</td>\n",
       "      <td>369.35</td>\n",
       "      <td>2763552</td>\n",
       "    </tr>\n",
       "    <tr>\n",
       "      <th>2013-01-07</th>\n",
       "      <td>368.09</td>\n",
       "      <td>370.06</td>\n",
       "      <td>365.66</td>\n",
       "      <td>367.74</td>\n",
       "      <td>1655967</td>\n",
       "    </tr>\n",
       "    <tr>\n",
       "      <th>2013-01-08</th>\n",
       "      <td>368.14</td>\n",
       "      <td>368.52</td>\n",
       "      <td>362.58</td>\n",
       "      <td>367.02</td>\n",
       "      <td>1676740</td>\n",
       "    </tr>\n",
       "  </tbody>\n",
       "</table>\n",
       "</div>"
      ],
      "text/plain": [
       "              Open    High     Low   Close   Volume\n",
       "Date                                               \n",
       "2013-01-02  360.07  363.86  358.63  361.99  2542268\n",
       "2013-01-03  362.83  366.33  360.72  362.20  2318140\n",
       "2013-01-04  365.03  371.11  364.20  369.35  2763552\n",
       "2013-01-07  368.09  370.06  365.66  367.74  1655967\n",
       "2013-01-08  368.14  368.52  362.58  367.02  1676740"
      ]
     },
     "execution_count": 2,
     "metadata": {},
     "output_type": "execute_result"
    }
   ],
   "source": [
    "start_date = datetime.datetime(2013, 1, 1)\n",
    "end_date = datetime.datetime(2015, 1, 30)\n",
    "df = web.DataReader('GOOGL', data_source='google', start=start_date, end=end_date)\n",
    "df[:5]"
   ]
  },
  {
   "cell_type": "markdown",
   "metadata": {},
   "source": [
    "# Preparing the Pandas DataFrame"
   ]
  },
  {
   "cell_type": "markdown",
   "metadata": {},
   "source": [
    "We are going to need to create a BigQuery table with an appropriate schema. We can create a schema ourselves, but it is easier to just derive the schema from the dataframe."
   ]
  },
  {
   "cell_type": "markdown",
   "metadata": {},
   "source": [
    "## Pandas Schema"
   ]
  },
  {
   "cell_type": "code",
   "execution_count": 3,
   "metadata": {
    "collapsed": false
   },
   "outputs": [
    {
     "data": {
      "text/plain": [
       "Open      float64\n",
       "High      float64\n",
       "Low       float64\n",
       "Close     float64\n",
       "Volume      int64\n",
       "dtype: object"
      ]
     },
     "execution_count": 3,
     "metadata": {},
     "output_type": "execute_result"
    }
   ],
   "source": [
    "df.dtypes"
   ]
  },
  {
   "cell_type": "markdown",
   "metadata": {},
   "source": [
    "The types look reasonable, but notice that the date column is not included. That is because it is the index for the DataFrame. We want to include the index, which we can do by converting it to a column:"
   ]
  },
  {
   "cell_type": "code",
   "execution_count": 4,
   "metadata": {
    "collapsed": false
   },
   "outputs": [
    {
     "data": {
      "text/plain": [
       "Date      datetime64[ns]\n",
       "Open             float64\n",
       "High             float64\n",
       "Low              float64\n",
       "Close            float64\n",
       "Volume             int64\n",
       "dtype: object"
      ]
     },
     "execution_count": 4,
     "metadata": {},
     "output_type": "execute_result"
    }
   ],
   "source": [
    "df = df.reset_index(drop=False)\n",
    "df.dtypes"
   ]
  },
  {
   "cell_type": "markdown",
   "metadata": {},
   "source": [
    "As a result, you'll notice the DataFrame has a Date column and the index is now simply an auto-numbered sequence."
   ]
  },
  {
   "cell_type": "code",
   "execution_count": 5,
   "metadata": {
    "collapsed": false
   },
   "outputs": [
    {
     "data": {
      "text/html": [
       "<div>\n",
       "<table border=\"1\" class=\"dataframe\">\n",
       "  <thead>\n",
       "    <tr style=\"text-align: right;\">\n",
       "      <th></th>\n",
       "      <th>Date</th>\n",
       "      <th>Open</th>\n",
       "      <th>High</th>\n",
       "      <th>Low</th>\n",
       "      <th>Close</th>\n",
       "      <th>Volume</th>\n",
       "    </tr>\n",
       "  </thead>\n",
       "  <tbody>\n",
       "    <tr>\n",
       "      <th>0</th>\n",
       "      <td>2013-01-02</td>\n",
       "      <td>360.07</td>\n",
       "      <td>363.86</td>\n",
       "      <td>358.63</td>\n",
       "      <td>361.99</td>\n",
       "      <td>2542268</td>\n",
       "    </tr>\n",
       "    <tr>\n",
       "      <th>1</th>\n",
       "      <td>2013-01-03</td>\n",
       "      <td>362.83</td>\n",
       "      <td>366.33</td>\n",
       "      <td>360.72</td>\n",
       "      <td>362.20</td>\n",
       "      <td>2318140</td>\n",
       "    </tr>\n",
       "    <tr>\n",
       "      <th>2</th>\n",
       "      <td>2013-01-04</td>\n",
       "      <td>365.03</td>\n",
       "      <td>371.11</td>\n",
       "      <td>364.20</td>\n",
       "      <td>369.35</td>\n",
       "      <td>2763552</td>\n",
       "    </tr>\n",
       "  </tbody>\n",
       "</table>\n",
       "</div>"
      ],
      "text/plain": [
       "        Date    Open    High     Low   Close   Volume\n",
       "0 2013-01-02  360.07  363.86  358.63  361.99  2542268\n",
       "1 2013-01-03  362.83  366.33  360.72  362.20  2318140\n",
       "2 2013-01-04  365.03  371.11  364.20  369.35  2763552"
      ]
     },
     "execution_count": 5,
     "metadata": {},
     "output_type": "execute_result"
    }
   ],
   "source": [
    "df[:3]"
   ]
  },
  {
   "cell_type": "markdown",
   "metadata": {},
   "source": [
    "You may need to rename columns if you want your BigQuery table to have different columns. Or the column in the DataFrame may have characters that are not allowed in BigQuery column names (as is true in the case of the Date column in this sample)."
   ]
  },
  {
   "cell_type": "code",
   "execution_count": 6,
   "metadata": {
    "collapsed": false
   },
   "outputs": [
    {
     "data": {
      "text/plain": [
       "'Date'"
      ]
     },
     "execution_count": 6,
     "metadata": {},
     "output_type": "execute_result"
    }
   ],
   "source": [
    "df.columns[0]"
   ]
  },
  {
   "cell_type": "code",
   "execution_count": 7,
   "metadata": {
    "collapsed": false
   },
   "outputs": [],
   "source": [
    "df.rename(columns={df.columns[0]: 'Date'}, inplace=True)"
   ]
  },
  {
   "cell_type": "markdown",
   "metadata": {},
   "source": [
    "## Missing Values"
   ]
  },
  {
   "cell_type": "markdown",
   "metadata": {},
   "source": [
    "Although it is not necessary in this example, missing values can be filled with a default value:"
   ]
  },
  {
   "cell_type": "code",
   "execution_count": 8,
   "metadata": {
    "collapsed": false
   },
   "outputs": [],
   "source": [
    "df.fillna(value=0, inplace=True)"
   ]
  },
  {
   "cell_type": "markdown",
   "metadata": {},
   "source": [
    "# Creating a BigQuery Table Schema"
   ]
  },
  {
   "cell_type": "markdown",
   "metadata": {},
   "source": [
    "Now we want to create a schema for the table. We can infer one from the dataframe as follows:"
   ]
  },
  {
   "cell_type": "code",
   "execution_count": 9,
   "metadata": {
    "collapsed": false
   },
   "outputs": [
    {
     "data": {
      "text/html": [
       "\n",
       "    <div class=\"bqsv\" id=\"1_144356714272\"></div>\n",
       "    <script>\n",
       "      require(['extensions/bigquery', 'element!1_144356714272', 'style!/static/extensions/bigquery.css'],\n",
       "        function(bq, dom) {\n",
       "          bq.renderSchema(dom, [{\"type\": \"TIMESTAMP\", \"name\": \"Date\"}, {\"type\": \"FLOAT\", \"name\": \"Open\"}, {\"type\": \"FLOAT\", \"name\": \"High\"}, {\"type\": \"FLOAT\", \"name\": \"Low\"}, {\"type\": \"FLOAT\", \"name\": \"Close\"}, {\"type\": \"INTEGER\", \"name\": \"Volume\"}]);\n",
       "        }\n",
       "      );\n",
       "    </script>\n",
       "    "
      ],
      "text/plain": [
       "[{ 'name': 'Date', 'type': 'TIMESTAMP', 'mode':'None', 'description': 'None' },\n",
       " { 'name': 'Open', 'type': 'FLOAT', 'mode':'None', 'description': 'None' },\n",
       " { 'name': 'High', 'type': 'FLOAT', 'mode':'None', 'description': 'None' },\n",
       " { 'name': 'Low', 'type': 'FLOAT', 'mode':'None', 'description': 'None' },\n",
       " { 'name': 'Close', 'type': 'FLOAT', 'mode':'None', 'description': 'None' },\n",
       " { 'name': 'Volume', 'type': 'INTEGER', 'mode':'None', 'description': 'None' }]"
      ]
     },
     "execution_count": 9,
     "metadata": {},
     "output_type": "execute_result"
    }
   ],
   "source": [
    "schema = bq.Schema.from_data(df)\n",
    "schema"
   ]
  },
  {
   "cell_type": "markdown",
   "metadata": {},
   "source": [
    "# Creating the BigQuery Table"
   ]
  },
  {
   "cell_type": "markdown",
   "metadata": {},
   "source": [
    "Now we can create table with the schema that was just created.\n",
    "\n",
    "For the purpose of this example, if the table exists we'll recreate it (with the `overwrite=True` parameter). Additionally we'll do the same for creating a DataSet that will contain the table."
   ]
  },
  {
   "cell_type": "code",
   "execution_count": 10,
   "metadata": {
    "collapsed": false
   },
   "outputs": [
    {
     "data": {
      "text/plain": []
     },
     "execution_count": 10,
     "metadata": {},
     "output_type": "execute_result"
    }
   ],
   "source": [
    "bq.DataSet('samples').create()"
   ]
  },
  {
   "cell_type": "code",
   "execution_count": 11,
   "metadata": {
    "collapsed": false
   },
   "outputs": [],
   "source": [
    "table = bq.Table('samples.stock').create(schema, overwrite=True)"
   ]
  },
  {
   "cell_type": "markdown",
   "metadata": {},
   "source": [
    "# Inserting Data into BigQuery"
   ]
  },
  {
   "cell_type": "markdown",
   "metadata": {},
   "source": [
    "Finally, we can populate the table with data from the dataframe. This uses the BigQuery streaming insert API to stream in rows from the pandas dataframe into BigQuery."
   ]
  },
  {
   "cell_type": "code",
   "execution_count": 12,
   "metadata": {
    "collapsed": false
   },
   "outputs": [
    {
     "data": {
      "text/html": [
       "\n",
       "    <div class=\"bqtv\" id=\"2_144356715680\"></div>\n",
       "    <br />(rows: 0, data-studio-team:samples.stock)<br />\n",
       "    <script>\n",
       "      require(['extensions/charting', 'element!2_144356715680', 'style!/static/extensions/charting.css'],\n",
       "        function(charts, dom) {\n",
       "          charts.render(dom,\n",
       "            {\n",
       "              chartStyle:\"table\",\n",
       "              dataName:\"0\",\n",
       "              fields:\"Date,Open,High,Low,Close,Volume\",\n",
       "              totalRows:0,\n",
       "              rowsPerPage:25,\n",
       "            }, {}, {\"rows\": [{\"c\": [{\"v\": \"2013-01-25T00:00:00\"}, {\"v\": 375.76}, {\"v\": 379.62}, {\"v\": 375.5}, {\"v\": 377.21}, {\"v\": 2225811}]}, {\"c\": [{\"v\": \"2013-06-27T00:00:00\"}, {\"v\": 439.84}, {\"v\": 442.79}, {\"v\": 438.76}, {\"v\": 438.97}, {\"v\": 1926554}]}, {\"c\": [{\"v\": \"2013-06-13T00:00:00\"}, {\"v\": 434.92}, {\"v\": 440.27}, {\"v\": 433.18}, {\"v\": 438.94}, {\"v\": 2071259}]}, {\"c\": [{\"v\": \"2014-04-11T00:00:00\"}, {\"v\": 537.94}, {\"v\": 547.59}, {\"v\": 533.4}, {\"v\": 537.76}, {\"v\": 3175460}]}, {\"c\": [{\"v\": \"2014-07-29T00:00:00\"}, {\"v\": 597.7}, {\"v\": 598.49}, {\"v\": 592.17}, {\"v\": 593.95}, {\"v\": 1366729}]}, {\"c\": [{\"v\": \"2013-09-23T00:00:00\"}, {\"v\": 448.52}, {\"v\": 451.25}, {\"v\": 443.04}, {\"v\": 443.69}, {\"v\": 1778378}]}, {\"c\": [{\"v\": \"2013-08-29T00:00:00\"}, {\"v\": 424.96}, {\"v\": 430.62}, {\"v\": 424.72}, {\"v\": 428.14}, {\"v\": 1478494}]}, {\"c\": [{\"v\": \"2013-01-07T00:00:00\"}, {\"v\": 368.09}, {\"v\": 370.06}, {\"v\": 365.66}, {\"v\": 367.74}, {\"v\": 1655967}]}, {\"c\": [{\"v\": \"2014-11-12T00:00:00\"}, {\"v\": 561.15}, {\"v\": 561.25}, {\"v\": 555.5}, {\"v\": 558.25}, {\"v\": 1094114}]}, {\"c\": [{\"v\": \"2014-10-02T00:00:00\"}, {\"v\": 578.0}, {\"v\": 583.24}, {\"v\": 574.05}, {\"v\": 580.88}, {\"v\": 1536935}]}, {\"c\": [{\"v\": \"2013-12-16T00:00:00\"}, {\"v\": 532.04}, {\"v\": 537.88}, {\"v\": 531.54}, {\"v\": 537.03}, {\"v\": 1606175}]}, {\"c\": [{\"v\": \"2014-09-05T00:00:00\"}, {\"v\": 595.13}, {\"v\": 598.5}, {\"v\": 593.55}, {\"v\": 597.78}, {\"v\": 1799855}]}, {\"c\": [{\"v\": \"2013-10-11T00:00:00\"}, {\"v\": 433.45}, {\"v\": 437.18}, {\"v\": 433.08}, {\"v\": 436.43}, {\"v\": 1408912}]}, {\"c\": [{\"v\": \"2013-04-08T00:00:00\"}, {\"v\": 389.76}, {\"v\": 390.16}, {\"v\": 384.58}, {\"v\": 387.81}, {\"v\": 2832718}]}, {\"c\": [{\"v\": \"2014-08-01T00:00:00\"}, {\"v\": 578.56}, {\"v\": 583.43}, {\"v\": 570.3}, {\"v\": 573.6}, {\"v\": 2213790}]}, {\"c\": [{\"v\": \"2014-12-08T00:00:00\"}, {\"v\": 529.22}, {\"v\": 533.82}, {\"v\": 527.0}, {\"v\": 530.73}, {\"v\": 3231818}]}, {\"c\": [{\"v\": \"2014-09-18T00:00:00\"}, {\"v\": 595.05}, {\"v\": 597.56}, {\"v\": 593.02}, {\"v\": 597.27}, {\"v\": 1494467}]}, {\"c\": [{\"v\": \"2014-12-17T00:00:00\"}, {\"v\": 499.86}, {\"v\": 509.07}, {\"v\": 499.11}, {\"v\": 506.45}, {\"v\": 3639437}]}, {\"c\": [{\"v\": \"2014-04-15T00:00:00\"}, {\"v\": 551.0}, {\"v\": 552.89}, {\"v\": 530.64}, {\"v\": 548.7}, {\"v\": 3999843}]}, {\"c\": [{\"v\": \"2013-08-06T00:00:00\"}, {\"v\": 452.8}, {\"v\": 455.31}, {\"v\": 448.31}, {\"v\": 448.73}, {\"v\": 1506475}]}, {\"c\": [{\"v\": \"2014-06-12T00:00:00\"}, {\"v\": 567.0}, {\"v\": 567.0}, {\"v\": 557.15}, {\"v\": 559.5}, {\"v\": 1549487}]}, {\"c\": [{\"v\": \"2014-04-29T00:00:00\"}, {\"v\": 523.89}, {\"v\": 537.76}, {\"v\": 523.0}, {\"v\": 536.33}, {\"v\": 2535967}]}, {\"c\": [{\"v\": \"2013-02-28T00:00:00\"}, {\"v\": 400.95}, {\"v\": 403.9}, {\"v\": 400.92}, {\"v\": 401.0}, {\"v\": 2265874}]}, {\"c\": [{\"v\": \"2014-10-01T00:00:00\"}, {\"v\": 586.8}, {\"v\": 588.72}, {\"v\": 578.02}, {\"v\": 579.63}, {\"v\": 1449686}]}, {\"c\": [{\"v\": \"2014-04-04T00:00:00\"}, {\"v\": 578.55}, {\"v\": 579.72}, {\"v\": 544.49}, {\"v\": 545.25}, {\"v\": 5366972}]}], \"cols\": [{\"type\": \"datetime\", \"id\": \"Date\", \"label\": \"Date\"}, {\"type\": \"number\", \"id\": \"Open\", \"label\": \"Open\"}, {\"type\": \"number\", \"id\": \"High\", \"label\": \"High\"}, {\"type\": \"number\", \"id\": \"Low\", \"label\": \"Low\"}, {\"type\": \"number\", \"id\": \"Close\", \"label\": \"Close\"}, {\"type\": \"number\", \"id\": \"Volume\", \"label\": \"Volume\"}]});\n",
       "        }\n",
       "      );\n",
       "    </script>\n",
       "  "
      ],
      "text/plain": []
     },
     "execution_count": 12,
     "metadata": {},
     "output_type": "execute_result"
    }
   ],
   "source": [
    "table.insert_data(df)"
   ]
  },
  {
   "cell_type": "markdown",
   "metadata": {},
   "source": [
    "To confirm the insert, we can sample the newly created and populated table.\n",
    "\n",
    "Note that it can take some while for BigQuery to process the newly inserted data, and make it available to be queried. You may need to wait a while and refresh this cell a few times before seeing the results."
   ]
  },
  {
   "cell_type": "code",
   "execution_count": 13,
   "metadata": {
    "collapsed": false
   },
   "outputs": [
    {
     "data": {
      "text/html": [
       "\n",
       "    <div class=\"bqtv\" id=\"3_144356715971\"></div>\n",
       "    <br />(rows: 5, time: 2.2s,     0B processed, job: job_9m3qWTjNLwSMqYi6Vxqw6foZZSI)<br />\n",
       "    <script>\n",
       "      require(['extensions/charting', 'element!3_144356715971', 'style!/static/extensions/charting.css'],\n",
       "        function(charts, dom) {\n",
       "          charts.render(dom,\n",
       "            {\n",
       "              chartStyle:\"table\",\n",
       "              dataName:\"1\",\n",
       "              fields:\"Date,Open,High,Low,Close,Volume\",\n",
       "              totalRows:5,\n",
       "              rowsPerPage:25,\n",
       "            }, {}, {\"rows\": [{\"c\": [{\"v\": \"2013-01-25T00:00:00\"}, {\"v\": 375.76}, {\"v\": 379.62}, {\"v\": 375.5}, {\"v\": 377.21}, {\"v\": 2225811}]}, {\"c\": [{\"v\": \"2013-06-27T00:00:00\"}, {\"v\": 439.84}, {\"v\": 442.79}, {\"v\": 438.76}, {\"v\": 438.97}, {\"v\": 1926554}]}, {\"c\": [{\"v\": \"2013-06-13T00:00:00\"}, {\"v\": 434.92}, {\"v\": 440.27}, {\"v\": 433.18}, {\"v\": 438.94}, {\"v\": 2071259}]}, {\"c\": [{\"v\": \"2014-04-11T00:00:00\"}, {\"v\": 537.94}, {\"v\": 547.59}, {\"v\": 533.4}, {\"v\": 537.76}, {\"v\": 3175460}]}, {\"c\": [{\"v\": \"2014-07-29T00:00:00\"}, {\"v\": 597.7}, {\"v\": 598.49}, {\"v\": 592.17}, {\"v\": 593.95}, {\"v\": 1366729}]}], \"cols\": [{\"type\": \"datetime\", \"id\": \"Date\", \"label\": \"Date\"}, {\"type\": \"number\", \"id\": \"Open\", \"label\": \"Open\"}, {\"type\": \"number\", \"id\": \"High\", \"label\": \"High\"}, {\"type\": \"number\", \"id\": \"Low\", \"label\": \"Low\"}, {\"type\": \"number\", \"id\": \"Close\", \"label\": \"Close\"}, {\"type\": \"number\", \"id\": \"Volume\", \"label\": \"Volume\"}]});\n",
       "        }\n",
       "      );\n",
       "    </script>\n",
       "  "
      ],
      "text/plain": []
     },
     "execution_count": 13,
     "metadata": {},
     "output_type": "execute_result"
    }
   ],
   "source": [
    "table.sample()"
   ]
  },
  {
   "cell_type": "code",
   "execution_count": null,
   "metadata": {
    "collapsed": false
   },
   "outputs": [],
   "source": []
  }
 ],
 "metadata": {
  "kernelspec": {
   "display_name": "Python 2",
   "language": "python",
   "name": "python2"
  },
  "language_info": {
   "codemirror_mode": {
    "name": "ipython",
    "version": 2
   },
   "file_extension": ".py",
   "mimetype": "text/x-python",
   "name": "python",
   "nbconvert_exporter": "python",
   "pygments_lexer": "ipython2",
   "version": "2.7.9"
  }
 },
 "nbformat": 4,
 "nbformat_minor": 0
}
