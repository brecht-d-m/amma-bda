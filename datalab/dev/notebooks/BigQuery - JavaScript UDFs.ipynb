{
 "cells": [
  {
   "cell_type": "markdown",
   "metadata": {},
   "source": [
    "# BigQuery - JavaScript UDFs\n",
    "\n",
    "This notebook demonstrates how you can write JavaScript UDFs and include them into your BigQuery SQL queries to include computation logic that can be expressed more simply in script than in SQL. The notebook also demonstrates how you can test the script before it is included into a query and processed by BigQuery.\n",
    "\n",
    "JavaScript UDFs process records in a table or query via an arbitrary JavaScript logic. The function takes as arguments the record and an emit function. The function produces output records by invoking emit(..) for each output record. They are the equivalent of mappers in map/reduce. The input and output records are vanilla JavaScript objects.\n",
    "\n",
    "----\n",
    "\n",
    "NOTE:\n",
    "\n",
    "* JavaScript UDFs are a new feature of BigQuery. In order to try the functionality here, you'll need to get your project white-listed.\n",
    "* For an introduction to BigQuery and notebook basics, see the full list of introductory notebooks.\n"
   ]
  },
  {
   "cell_type": "markdown",
   "metadata": {},
   "source": [
    "# Quick Look at the Data"
   ]
  },
  {
   "cell_type": "markdown",
   "metadata": {},
   "source": [
    "BigQuery provides a corpus of Shakespeare's works as a dataset."
   ]
  },
  {
   "cell_type": "code",
   "execution_count": 1,
   "metadata": {
    "collapsed": false
   },
   "outputs": [
    {
     "data": {
      "text/html": [
       "\n",
       "    <div class=\"bqtv\" id=\"1_144356717457\"></div>\n",
       "    <br />(rows: 10, time: 2.1s,     5MB processed, job: job_eRY7Y1iUx-c26BWFUgvwVqLUmBE)<br />\n",
       "    <script>\n",
       "      require(['extensions/charting', 'element!1_144356717457', 'style!/static/extensions/charting.css'],\n",
       "        function(charts, dom) {\n",
       "          charts.render(dom,\n",
       "            {\n",
       "              chartStyle:\"table\",\n",
       "              dataName:\"0\",\n",
       "              fields:\"word,word_count,corpus,length\",\n",
       "              totalRows:10,\n",
       "              rowsPerPage:25,\n",
       "            }, {}, {\"rows\": [{\"c\": [{\"v\": \"honorificabilitudinitatibus\"}, {\"v\": 1}, {\"v\": \"loveslabourslost\"}, {\"v\": 27}]}, {\"c\": [{\"v\": \"undistinguishable\"}, {\"v\": 2}, {\"v\": \"midsummersnightsdream\"}, {\"v\": 17}]}, {\"c\": [{\"v\": \"Anthropophaginian\"}, {\"v\": 1}, {\"v\": \"merrywivesofwindsor\"}, {\"v\": 17}]}, {\"c\": [{\"v\": \"indistinguishable\"}, {\"v\": 1}, {\"v\": \"troilusandcressida\"}, {\"v\": 17}]}, {\"c\": [{\"v\": \"Northamptonshire\"}, {\"v\": 1}, {\"v\": \"kingjohn\"}, {\"v\": 16}]}, {\"c\": [{\"v\": \"interchangeably'\"}, {\"v\": 1}, {\"v\": \"troilusandcressida\"}, {\"v\": 16}]}, {\"c\": [{\"v\": \"incomprehensible\"}, {\"v\": 1}, {\"v\": \"1kinghenryiv\"}, {\"v\": 16}]}, {\"c\": [{\"v\": \"Northumberland's\"}, {\"v\": 1}, {\"v\": \"3kinghenryvi\"}, {\"v\": 16}]}, {\"c\": [{\"v\": \"Enfranchisement\"}, {\"v\": 1}, {\"v\": \"kingrichardii\"}, {\"v\": 15}]}, {\"c\": [{\"v\": \"enfranchisement\"}, {\"v\": 1}, {\"v\": \"kingrichardii\"}, {\"v\": 15}]}], \"cols\": [{\"type\": \"string\", \"id\": \"word\", \"label\": \"word\"}, {\"type\": \"number\", \"id\": \"word_count\", \"label\": \"word_count\"}, {\"type\": \"string\", \"id\": \"corpus\", \"label\": \"corpus\"}, {\"type\": \"number\", \"id\": \"length\", \"label\": \"length\"}]});\n",
       "        }\n",
       "      );\n",
       "    </script>\n",
       "  "
      ],
      "text/plain": []
     },
     "execution_count": 1,
     "metadata": {},
     "output_type": "execute_result"
    }
   ],
   "source": [
    "%%sql\n",
    "SELECT word, word_count, corpus, LENGTH(word) as length\n",
    "FROM [publicdata:samples.shakespeare]\n",
    "ORDER BY length DESC\n",
    "LIMIT 10"
   ]
  },
  {
   "cell_type": "markdown",
   "metadata": {},
   "source": [
    "# JavaScript function"
   ]
  },
  {
   "cell_type": "markdown",
   "metadata": {},
   "source": [
    "Lets say we want to query all words from all shakespeare texts for words that contain letter(s) in \"shakespeare\"."
   ]
  },
  {
   "cell_type": "code",
   "execution_count": 2,
   "metadata": {
    "collapsed": false
   },
   "outputs": [],
   "source": [
    "%%bigquery udf --module word_filter\n",
    "/**\n",
    " * @param {{word: string, corpus: string, word_count: integer}} r\n",
    " * @param function({{word: string, corpus: string, count: integer}}) emitFn\n",
    " */\n",
    "function(r, emitFn) {\n",
    "  if (r.word.match(/[shakespeare]/) !== null) {\n",
    "    var result = { word: r.word, corpus: r.corpus, count: r.word_count };\n",
    "    emitFn(result);\n",
    "  }\n",
    "}"
   ]
  },
  {
   "cell_type": "markdown",
   "metadata": {},
   "source": [
    "## Testing JavaScript"
   ]
  },
  {
   "cell_type": "markdown",
   "metadata": {},
   "source": [
    "The notebooks allows testing JavaScript UDFs as JavaScript, before they are included into a SQL query. The name assigned to the JavaScript function is available in the page for experimenting with mock or dummy data."
   ]
  },
  {
   "cell_type": "code",
   "execution_count": 3,
   "metadata": {
    "collapsed": false
   },
   "outputs": [
    {
     "data": {
      "text/html": [
       "\n",
       "    <div class=\"bqtv\" id=\"2_144356717495\"></div>\n",
       "    <script>\n",
       "      require(['extensions/bigquery', 'element!2_144356717495'],\n",
       "          function(bq, dom) {\n",
       "              bq.evaluateUDF(dom, /**\n",
       " * @param {{word: string, corpus: string, word_count: integer}} r\n",
       " * @param function({{word: string, corpus: string, count: integer}}) emitFn\n",
       " */\n",
       "function(r, emitFn) {\n",
       "  if (r.word.match(/[shakespeare]/) !== null) {\n",
       "    var result = { word: r.word, corpus: r.corpus, count: r.word_count };\n",
       "    emitFn(result);\n",
       "  }\n",
       "}, [{\"corpus\": \"othello \", \"word\": \"love\", \"word_count\": 78}, {\"corpus\": \"kinghenryviii \", \"word\": \"not\", \"word_count\": 171}, {\"corpus\": \"asyoulikeit \", \"word\": \"midsummer\", \"word_count\": 100}]);\n",
       "          }\n",
       "      );\n",
       "    </script>\n",
       "    "
      ],
      "text/plain": [
       "<gcp.bigquery._udf.FunctionEvaluation at 0x7f8dd0bfe990>"
      ]
     },
     "execution_count": 3,
     "metadata": {},
     "output_type": "execute_result"
    }
   ],
   "source": [
    "# A few sample words to run through the function\n",
    "word_filter([{ 'word': 'love', 'corpus': 'othello ', 'word_count': 78 },\n",
    "             { 'word': 'not', 'corpus': 'kinghenryviii ', 'word_count': 171 },\n",
    "             { 'word': 'midsummer', 'corpus': 'asyoulikeit ', 'word_count': 100 }])\n",
    "              "
   ]
  },
  {
   "cell_type": "markdown",
   "metadata": {},
   "source": [
    "# Including JavaScript into SQL"
   ]
  },
  {
   "cell_type": "markdown",
   "metadata": {},
   "source": [
    "The JavaScript function can now be applied to a table or SQL query."
   ]
  },
  {
   "cell_type": "code",
   "execution_count": 4,
   "metadata": {
    "collapsed": false
   },
   "outputs": [],
   "source": [
    "import gcp.bigquery as bq\n",
    "shakespeare = bq.Table('publicdata:samples.shakespeare')"
   ]
  },
  {
   "cell_type": "code",
   "execution_count": 5,
   "metadata": {
    "collapsed": false
   },
   "outputs": [],
   "source": [
    "filtering_query = word_filter(shakespeare)"
   ]
  },
  {
   "cell_type": "code",
   "execution_count": 6,
   "metadata": {
    "collapsed": false
   },
   "outputs": [],
   "source": [
    "%%sql --module query\n",
    "SELECT word, sum(count) as count\n",
    "FROM $filter\n",
    "WHERE LENGTH(word) >= 5\n",
    "GROUP BY word \n",
    "ORDER BY count DESC\n",
    "LIMIT 100"
   ]
  },
  {
   "cell_type": "markdown",
   "metadata": {},
   "source": [
    "It might be interesting to check out the SQL resulting from applying a JavaScript UDF."
   ]
  },
  {
   "cell_type": "code",
   "execution_count": 7,
   "metadata": {
    "collapsed": false
   },
   "outputs": [
    {
     "name": "stdout",
     "output_type": "stream",
     "text": [
      "SELECT word, sum(count) as count\n",
      "FROM (SELECT word, corpus, word_count FROM word_filter([publicdata:samples.shakespeare]))\n",
      "WHERE LENGTH(word) >= 5\n",
      "GROUP BY word \n",
      "ORDER BY count DESC\n",
      "LIMIT 100\n"
     ]
    }
   ],
   "source": [
    "final_query = bq.Query(query, filter=filtering_query)\n",
    "print final_query.sql"
   ]
  },
  {
   "cell_type": "markdown",
   "metadata": {},
   "source": [
    "And of course execute it, and see the results..."
   ]
  },
  {
   "cell_type": "code",
   "execution_count": 8,
   "metadata": {
    "collapsed": false
   },
   "outputs": [
    {
     "data": {
      "text/html": [
       "\n",
       "    <div class=\"bqtv\" id=\"3_144356718487\"></div>\n",
       "    <br />(rows: 100, time: 8.7s,     1MB processed, job: job_AvuQ1fzKfYFfkpjN1njXorPqhak)<br />\n",
       "    <script>\n",
       "      require(['extensions/charting', 'element!3_144356718487', 'style!/static/extensions/charting.css'],\n",
       "        function(charts, dom) {\n",
       "          charts.render(dom,\n",
       "            {\n",
       "              chartStyle:\"paged_table\",\n",
       "              dataName:\"1\",\n",
       "              fields:\"word,count\",\n",
       "              totalRows:100,\n",
       "              rowsPerPage:25,\n",
       "            }, {}, {\"rows\": [{\"c\": [{\"v\": \"shall\"}, {\"v\": 3282}]}, {\"c\": [{\"v\": \"their\"}, {\"v\": 2135}]}, {\"c\": [{\"v\": \"Enter\"}, {\"v\": 1977}]}, {\"c\": [{\"v\": \"which\"}, {\"v\": 1524}]}, {\"c\": [{\"v\": \"should\"}, {\"v\": 1505}]}, {\"c\": [{\"v\": \"there\"}, {\"v\": 1453}]}, {\"c\": [{\"v\": \"these\"}, {\"v\": 1164}]}, {\"c\": [{\"v\": \"heart\"}, {\"v\": 1081}]}, {\"c\": [{\"v\": \"Exeunt\"}, {\"v\": 1052}]}, {\"c\": [{\"v\": \"speak\"}, {\"v\": 1040}]}, {\"c\": [{\"v\": \"think\"}, {\"v\": 991}]}, {\"c\": [{\"v\": \"First\"}, {\"v\": 984}]}, {\"c\": [{\"v\": \"never\"}, {\"v\": 981}]}, {\"c\": [{\"v\": \"Which\"}, {\"v\": 977}]}, {\"c\": [{\"v\": \"night\"}, {\"v\": 902}]}, {\"c\": [{\"v\": \"death\"}, {\"v\": 887}]}, {\"c\": [{\"v\": \"great\"}, {\"v\": 850}]}, {\"c\": [{\"v\": \"father\"}, {\"v\": 837}]}, {\"c\": [{\"v\": \"again\"}, {\"v\": 790}]}, {\"c\": [{\"v\": \"where\"}, {\"v\": 763}]}, {\"c\": [{\"v\": \"cannot\"}, {\"v\": 745}]}, {\"c\": [{\"v\": \"sweet\"}, {\"v\": 717}]}, {\"c\": [{\"v\": \"other\"}, {\"v\": 688}]}, {\"c\": [{\"v\": \"before\"}, {\"v\": 658}]}, {\"c\": [{\"v\": \"world\"}, {\"v\": 656}]}], \"cols\": [{\"type\": \"string\", \"id\": \"word\", \"label\": \"word\"}, {\"type\": \"number\", \"id\": \"count\", \"label\": \"count\"}]});\n",
       "        }\n",
       "      );\n",
       "    </script>\n",
       "  "
      ],
      "text/plain": []
     },
     "execution_count": 8,
     "metadata": {},
     "output_type": "execute_result"
    }
   ],
   "source": [
    "final_query.results()"
   ]
  }
 ],
 "metadata": {
  "kernelspec": {
   "display_name": "Python 2",
   "language": "python",
   "name": "python2"
  },
  "language_info": {
   "codemirror_mode": {
    "name": "ipython",
    "version": 2
   },
   "file_extension": ".py",
   "mimetype": "text/x-python",
   "name": "python",
   "nbconvert_exporter": "python",
   "pygments_lexer": "ipython2",
   "version": "2.7.9"
  }
 },
 "nbformat": 4,
 "nbformat_minor": 0
}
