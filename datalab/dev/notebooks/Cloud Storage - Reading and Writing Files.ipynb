{
 "cells": [
  {
   "cell_type": "markdown",
   "metadata": {},
   "source": [
    "# Cloud Storage - Reading and Writing Files\n",
    "\n",
    "You can easily read and write files (eg. csv or json files) from Google Cloud Storage, to work with data stored as files in storage, and like with BigQuery, use the resulting data with python data analysis libraries.\n",
    "\n",
    "This notebook reads from a shared read-only dump of request logs, as well as working with cloud storage buckets and files within your project.\n",
    "\n",
    "Related Links:\n",
    "\n",
    "* [Cloud Storage](https://cloud.google.com/storage/)\n",
    "* Python [Pandas](http://pandas.pydata.org/) for data analysis\n",
    "\n",
    "----\n",
    "\n",
    "NOTE:\n",
    "\n",
    "* If you're new to notebooks, or want to check out additional samples, check out the full [list](..) of notebooks."
   ]
  },
  {
   "cell_type": "markdown",
   "metadata": {},
   "source": [
    "# Python APIs for working with Storage"
   ]
  },
  {
   "cell_type": "markdown",
   "metadata": {},
   "source": [
    "Using the python APIs in the `PyGCP` library you can directly work with all the datasets that are contained or shared with your cloud project. The following `gcp.storage` import makes the Storage functionality available to this notebook."
   ]
  },
  {
   "cell_type": "code",
   "execution_count": 1,
   "metadata": {
    "collapsed": false
   },
   "outputs": [],
   "source": [
    "import gcp\n",
    "import gcp.storage as storage"
   ]
  },
  {
   "cell_type": "markdown",
   "metadata": {},
   "source": [
    "## Buckets"
   ]
  },
  {
   "cell_type": "markdown",
   "metadata": {},
   "source": [
    "Buckets are the top-level containers in cloud storage, and they contain items, each associated with a key."
   ]
  },
  {
   "cell_type": "code",
   "execution_count": 2,
   "metadata": {
    "collapsed": false
   },
   "outputs": [],
   "source": [
    "shared_bucket = storage.Bucket('cloud-datalab')"
   ]
  },
  {
   "cell_type": "markdown",
   "metadata": {},
   "source": [
    "And then a bucket object can be used to enumerate items."
   ]
  },
  {
   "cell_type": "code",
   "execution_count": 3,
   "metadata": {
    "collapsed": false
   },
   "outputs": [
    {
     "data": {
      "text/plain": [
       "[u'/',\n",
       " u'assets/',\n",
       " u'assets/DataLab128px.png',\n",
       " u'assets/DataLab512px.png',\n",
       " u'assets/Logo.ico',\n",
       " u'assets/LogoIcon.png',\n",
       " u'assets/LogoLarge.png',\n",
       " u'assets/LogoOAuth.png',\n",
       " u'content/',\n",
       " u'content/Hello World.ipynb',\n",
       " u'content/datalab/',\n",
       " u'content/datalab/Readme.ipynb',\n",
       " u'content/datalab/docs/',\n",
       " u'content/datalab/docs/An Introduction to Notebooks.ipynb',\n",
       " u'content/datalab/docs/BigQuery - API Reference.ipynb',\n",
       " u'content/datalab/docs/BigQuery - Basics.ipynb',\n",
       " u'content/datalab/docs/BigQuery - Composing Queries.ipynb',\n",
       " u'content/datalab/docs/BigQuery - Data Transforms with SQL.ipynb',\n",
       " u'content/datalab/docs/BigQuery - Extracting Data.ipynb',\n",
       " u'content/datalab/docs/BigQuery - Inserting Data.ipynb',\n",
       " u'content/datalab/docs/BigQuery - JavaScript UDFs.ipynb',\n",
       " u'content/datalab/docs/BigQuery - Parameterized Queries.ipynb',\n",
       " u'content/datalab/docs/BigQuery - Sample - Genomics.ipynb',\n",
       " u'content/datalab/docs/BigQuery - Sample - GitHub Timeline.ipynb',\n",
       " u'content/datalab/docs/BigQuery - Sample - Request Logs.ipynb',\n",
       " u'content/datalab/docs/BigQuery - Using Asynchronous APIs.ipynb',\n",
       " u'content/datalab/docs/Charting - Interactive Charts.ipynb',\n",
       " u'content/datalab/docs/Cloud Storage - Reading and Writing Files.ipynb',\n",
       " u'content/datalab/docs/Cloud Storage - Using Storage Commands.ipynb',\n",
       " u'content/datalab/intro/',\n",
       " u'content/datalab/intro/Introduction to Notebooks.ipynb',\n",
       " u'content/datalab/intro/Introduction to Python.ipynb',\n",
       " u'content/datalab/intro/Working with Cloud Datalab.ipynb',\n",
       " u'content/datalab/samples/',\n",
       " u'content/datalab/samples/Anomaly Detection in HTTP Logs.ipynb',\n",
       " u'content/datalab/tutorials/',\n",
       " u'content/datalab/tutorials/BigQuery/',\n",
       " u'content/datalab/tutorials/BigQuery/Hello BigQuery.ipynb',\n",
       " u'deploy/',\n",
       " u'deploy/app.py',\n",
       " u'deploy/wsync/',\n",
       " u'deploy/wsync/20150814/',\n",
       " u'deploy/wsync/20150814/wsync',\n",
       " u'sampledata/',\n",
       " u'sampledata/autoprices/',\n",
       " u'sampledata/autoprices/auto_testing.csv',\n",
       " u'sampledata/autoprices/auto_training.csv',\n",
       " u'sampledata/electricity/',\n",
       " u'sampledata/electricity/kw.csv',\n",
       " u'sampledata/electricity/kw2.csv',\n",
       " u'sampledata/requestlogs/logs20140615.csv',\n",
       " u'sampledata/requestlogs/logs20140616.csv',\n",
       " u'sampledata/requestlogs/logs20140617.csv',\n",
       " u'sampledata/requestlogs/logs20140618.csv',\n",
       " u'sampledata/requestlogs/logs20140619.csv',\n",
       " u'sampledata/requestlogs/logs20140620.csv',\n",
       " u'sampledata/requestlogs/logs_sample.csv',\n",
       " u'sampledata/telecom/',\n",
       " u'sampledata/telecom/churn.csv',\n",
       " u'scripts/',\n",
       " u'scripts/datalab.sh',\n",
       " u'version.json']"
      ]
     },
     "execution_count": 3,
     "metadata": {},
     "output_type": "execute_result"
    }
   ],
   "source": [
    "items = shared_bucket.items()\n",
    "keys = map(lambda item: item.key, items)\n",
    "keys"
   ]
  },
  {
   "cell_type": "markdown",
   "metadata": {},
   "source": [
    "Items within a bucket can also be filtered to enumerate matching ones."
   ]
  },
  {
   "cell_type": "code",
   "execution_count": 4,
   "metadata": {
    "collapsed": false
   },
   "outputs": [
    {
     "data": {
      "text/plain": [
       "[]"
      ]
     },
     "execution_count": 4,
     "metadata": {},
     "output_type": "execute_result"
    }
   ],
   "source": [
    "items = shared_bucket.items(prefix = 'ipython/intro/', delimiter = '/')\n",
    "keys = map(lambda item: item.key, items)\n",
    "keys"
   ]
  },
  {
   "cell_type": "markdown",
   "metadata": {},
   "source": [
    "## Items"
   ]
  },
  {
   "cell_type": "markdown",
   "metadata": {},
   "source": [
    "Items are individual objects in a bucket. Items have associated metadata, and can be read or written to."
   ]
  },
  {
   "cell_type": "code",
   "execution_count": 5,
   "metadata": {
    "collapsed": false
   },
   "outputs": [
    {
     "data": {
      "text/plain": [
       "'The item with key \"sampledata/requestlogs/logs_sample.csv\" is 3949 bytes'"
      ]
     },
     "execution_count": 5,
     "metadata": {},
     "output_type": "execute_result"
    }
   ],
   "source": [
    "sample_logs = shared_bucket.item('sampledata/requestlogs/logs_sample.csv')\n",
    "'The item with key \"%s\" is %d bytes' % (sample_logs.key, sample_logs.metadata().size)"
   ]
  },
  {
   "cell_type": "markdown",
   "metadata": {},
   "source": [
    "### Reading Item Contents"
   ]
  },
  {
   "cell_type": "code",
   "execution_count": 6,
   "metadata": {
    "collapsed": false
   },
   "outputs": [],
   "source": [
    "log_content = sample_logs.read_from()"
   ]
  },
  {
   "cell_type": "code",
   "execution_count": 7,
   "metadata": {
    "collapsed": false
   },
   "outputs": [
    {
     "name": "stdout",
     "output_type": "stream",
     "text": [
      "1402815600.003772,122,200,GET,Interact3\n",
      "1402815600.428897,144,200,GET,Interact3\n",
      "1402815600.536486,48,200,GET,Interact3\n",
      "1402815600.652760,28,405,GET,Interact2\n",
      "1402815600.670100,103,200,GET,Interact3\n",
      "...\n"
     ]
    }
   ],
   "source": [
    "print log_content[:198] + '...'"
   ]
  },
  {
   "cell_type": "markdown",
   "metadata": {},
   "source": [
    "### Writing Item Contents"
   ]
  },
  {
   "cell_type": "markdown",
   "metadata": {},
   "source": [
    "The following will simply copy the item that was just read from the shared read-only bucket, and write the content to an item within a bucket in your own project. Specifically this will create an item within the notebooks bucket where all of your notebooks are read and written to as well."
   ]
  },
  {
   "cell_type": "code",
   "execution_count": 8,
   "metadata": {
    "collapsed": false
   },
   "outputs": [
    {
     "name": "stdout",
     "output_type": "stream",
     "text": [
      "Creating an item and writing 3949 bytes into it...\n"
     ]
    }
   ],
   "source": [
    "print 'Creating an item and writing %d bytes into it...' % len(log_content)"
   ]
  },
  {
   "cell_type": "code",
   "execution_count": 9,
   "metadata": {
    "collapsed": false
   },
   "outputs": [],
   "source": [
    "# The notebooks bucket is named using the project id followed by the \"-datalab\" suffix.\n",
    "notebooks_bucket_name = gcp.Context.default().project_id + '-datalab'\n",
    "notebooks_bucket = storage.Bucket(notebooks_bucket_name)\n",
    "if not notebooks_bucket.exists():\n",
    "    storage.Buckets().create(notebooks_bucket_name)\n",
    "\n",
    "new_item = notebooks_bucket.item('sample_logs.csv')\n",
    "new_item.write_to(log_content, 'text/plain')"
   ]
  },
  {
   "cell_type": "code",
   "execution_count": 10,
   "metadata": {
    "collapsed": false
   },
   "outputs": [
    {
     "data": {
      "text/plain": [
       "[3949]"
      ]
     },
     "execution_count": 10,
     "metadata": {},
     "output_type": "execute_result"
    }
   ],
   "source": [
    "map(lambda item: item.metadata().size,\n",
    "    filter(lambda item: item.key.endswith('.csv'),\n",
    "           notebooks_bucket.items(delimiter = '/')))"
   ]
  },
  {
   "cell_type": "markdown",
   "metadata": {},
   "source": [
    "### Deleting Items"
   ]
  },
  {
   "cell_type": "markdown",
   "metadata": {},
   "source": [
    "Lets delete that item we just created when writing the sample log content."
   ]
  },
  {
   "cell_type": "code",
   "execution_count": 11,
   "metadata": {
    "collapsed": false
   },
   "outputs": [
    {
     "data": {
      "text/plain": [
       "False"
      ]
     },
     "execution_count": 11,
     "metadata": {},
     "output_type": "execute_result"
    }
   ],
   "source": [
    "new_item.delete()"
   ]
  },
  {
   "cell_type": "markdown",
   "metadata": {},
   "source": [
    "# Integrating with Pandas"
   ]
  },
  {
   "cell_type": "markdown",
   "metadata": {},
   "source": [
    "Once you're read in some data from cloud storage you can easily load a Python Pandas dataframe to further query and/or reshape the data."
   ]
  },
  {
   "cell_type": "code",
   "execution_count": 12,
   "metadata": {
    "collapsed": false
   },
   "outputs": [],
   "source": [
    "import pandas as pd\n",
    "import numpy as np\n",
    "import StringIO"
   ]
  },
  {
   "cell_type": "code",
   "execution_count": 13,
   "metadata": {
    "collapsed": false
   },
   "outputs": [
    {
     "data": {
      "text/html": [
       "<div>\n",
       "<table border=\"1\" class=\"dataframe\">\n",
       "  <thead>\n",
       "    <tr style=\"text-align: right;\">\n",
       "      <th></th>\n",
       "      <th>latency</th>\n",
       "      <th>status</th>\n",
       "      <th>method</th>\n",
       "      <th>endpoint</th>\n",
       "    </tr>\n",
       "    <tr>\n",
       "      <th>timestamp</th>\n",
       "      <th></th>\n",
       "      <th></th>\n",
       "      <th></th>\n",
       "      <th></th>\n",
       "    </tr>\n",
       "  </thead>\n",
       "  <tbody>\n",
       "    <tr>\n",
       "      <th>1.402816e+09</th>\n",
       "      <td>28</td>\n",
       "      <td>405</td>\n",
       "      <td>GET</td>\n",
       "      <td>Interact2</td>\n",
       "    </tr>\n",
       "    <tr>\n",
       "      <th>1.402816e+09</th>\n",
       "      <td>121</td>\n",
       "      <td>405</td>\n",
       "      <td>GET</td>\n",
       "      <td>Interact2</td>\n",
       "    </tr>\n",
       "    <tr>\n",
       "      <th>1.402816e+09</th>\n",
       "      <td>124</td>\n",
       "      <td>405</td>\n",
       "      <td>GET</td>\n",
       "      <td>Interact2</td>\n",
       "    </tr>\n",
       "    <tr>\n",
       "      <th>1.402816e+09</th>\n",
       "      <td>27</td>\n",
       "      <td>405</td>\n",
       "      <td>GET</td>\n",
       "      <td>Interact2</td>\n",
       "    </tr>\n",
       "    <tr>\n",
       "      <th>1.402816e+09</th>\n",
       "      <td>112</td>\n",
       "      <td>404</td>\n",
       "      <td>GET</td>\n",
       "      <td>Other</td>\n",
       "    </tr>\n",
       "    <tr>\n",
       "      <th>1.402816e+09</th>\n",
       "      <td>123</td>\n",
       "      <td>405</td>\n",
       "      <td>GET</td>\n",
       "      <td>Interact2</td>\n",
       "    </tr>\n",
       "    <tr>\n",
       "      <th>1.402816e+09</th>\n",
       "      <td>192</td>\n",
       "      <td>404</td>\n",
       "      <td>GET</td>\n",
       "      <td>Other</td>\n",
       "    </tr>\n",
       "    <tr>\n",
       "      <th>1.402816e+09</th>\n",
       "      <td>29</td>\n",
       "      <td>405</td>\n",
       "      <td>GET</td>\n",
       "      <td>Interact2</td>\n",
       "    </tr>\n",
       "    <tr>\n",
       "      <th>1.402816e+09</th>\n",
       "      <td>112</td>\n",
       "      <td>400</td>\n",
       "      <td>GET</td>\n",
       "      <td>Other</td>\n",
       "    </tr>\n",
       "    <tr>\n",
       "      <th>1.402816e+09</th>\n",
       "      <td>125</td>\n",
       "      <td>401</td>\n",
       "      <td>POST</td>\n",
       "      <td>Create</td>\n",
       "    </tr>\n",
       "    <tr>\n",
       "      <th>1.402816e+09</th>\n",
       "      <td>125</td>\n",
       "      <td>405</td>\n",
       "      <td>GET</td>\n",
       "      <td>Interact2</td>\n",
       "    </tr>\n",
       "    <tr>\n",
       "      <th>1.402816e+09</th>\n",
       "      <td>29</td>\n",
       "      <td>405</td>\n",
       "      <td>GET</td>\n",
       "      <td>Interact2</td>\n",
       "    </tr>\n",
       "    <tr>\n",
       "      <th>1.402816e+09</th>\n",
       "      <td>122</td>\n",
       "      <td>405</td>\n",
       "      <td>GET</td>\n",
       "      <td>Interact2</td>\n",
       "    </tr>\n",
       "    <tr>\n",
       "      <th>1.402816e+09</th>\n",
       "      <td>28</td>\n",
       "      <td>405</td>\n",
       "      <td>GET</td>\n",
       "      <td>Interact2</td>\n",
       "    </tr>\n",
       "    <tr>\n",
       "      <th>1.402816e+09</th>\n",
       "      <td>28</td>\n",
       "      <td>405</td>\n",
       "      <td>GET</td>\n",
       "      <td>Interact2</td>\n",
       "    </tr>\n",
       "    <tr>\n",
       "      <th>1.402816e+09</th>\n",
       "      <td>131</td>\n",
       "      <td>400</td>\n",
       "      <td>GET</td>\n",
       "      <td>Other</td>\n",
       "    </tr>\n",
       "    <tr>\n",
       "      <th>1.402816e+09</th>\n",
       "      <td>101</td>\n",
       "      <td>404</td>\n",
       "      <td>GET</td>\n",
       "      <td>Other</td>\n",
       "    </tr>\n",
       "    <tr>\n",
       "      <th>1.402816e+09</th>\n",
       "      <td>36</td>\n",
       "      <td>405</td>\n",
       "      <td>GET</td>\n",
       "      <td>Interact2</td>\n",
       "    </tr>\n",
       "    <tr>\n",
       "      <th>1.402816e+09</th>\n",
       "      <td>31</td>\n",
       "      <td>405</td>\n",
       "      <td>GET</td>\n",
       "      <td>Interact2</td>\n",
       "    </tr>\n",
       "    <tr>\n",
       "      <th>1.402816e+09</th>\n",
       "      <td>33</td>\n",
       "      <td>405</td>\n",
       "      <td>GET</td>\n",
       "      <td>Interact2</td>\n",
       "    </tr>\n",
       "  </tbody>\n",
       "</table>\n",
       "</div>"
      ],
      "text/plain": [
       "              latency  status method   endpoint\n",
       "timestamp                                      \n",
       "1.402816e+09       28     405    GET  Interact2\n",
       "1.402816e+09      121     405    GET  Interact2\n",
       "1.402816e+09      124     405    GET  Interact2\n",
       "1.402816e+09       27     405    GET  Interact2\n",
       "1.402816e+09      112     404    GET      Other\n",
       "1.402816e+09      123     405    GET  Interact2\n",
       "1.402816e+09      192     404    GET      Other\n",
       "1.402816e+09       29     405    GET  Interact2\n",
       "1.402816e+09      112     400    GET      Other\n",
       "1.402816e+09      125     401   POST     Create\n",
       "1.402816e+09      125     405    GET  Interact2\n",
       "1.402816e+09       29     405    GET  Interact2\n",
       "1.402816e+09      122     405    GET  Interact2\n",
       "1.402816e+09       28     405    GET  Interact2\n",
       "1.402816e+09       28     405    GET  Interact2\n",
       "1.402816e+09      131     400    GET      Other\n",
       "1.402816e+09      101     404    GET      Other\n",
       "1.402816e+09       36     405    GET  Interact2\n",
       "1.402816e+09       31     405    GET  Interact2\n",
       "1.402816e+09       33     405    GET  Interact2"
      ]
     },
     "execution_count": 13,
     "metadata": {},
     "output_type": "execute_result"
    }
   ],
   "source": [
    "buffer = StringIO.StringIO(log_content)\n",
    "df = pd.read_csv(buffer, header=None, names=['timestamp','latency','status','method','endpoint'],\n",
    "                 parse_dates=[0], index_col=0)\n",
    "df[df.status >= 400]"
   ]
  }
 ],
 "metadata": {
  "kernelspec": {
   "display_name": "Python 2",
   "language": "python",
   "name": "python2"
  },
  "language_info": {
   "codemirror_mode": {
    "name": "ipython",
    "version": 2
   },
   "file_extension": ".py",
   "mimetype": "text/x-python",
   "name": "python",
   "nbconvert_exporter": "python",
   "pygments_lexer": "ipython2",
   "version": "2.7.9"
  }
 },
 "nbformat": 4,
 "nbformat_minor": 0
}
