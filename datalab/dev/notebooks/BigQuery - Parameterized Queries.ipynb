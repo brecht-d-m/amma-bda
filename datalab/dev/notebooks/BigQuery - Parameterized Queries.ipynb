{
 "cells": [
  {
   "cell_type": "markdown",
   "metadata": {},
   "source": [
    "# BigQuery - Parameterized Queries"
   ]
  },
  {
   "cell_type": "markdown",
   "metadata": {},
   "source": [
    "This notebook shows SQL and BigQuery support that goes beyond exploratory queries. It shows how to parameterize queries and organize them into modules for use elsewhere in the notebook and potentially for deployment to BigQuery from within a notebook. Query deployment is work in progress and modular, parameterized queries is a step in that direction."
   ]
  },
  {
   "cell_type": "markdown",
   "metadata": {},
   "source": [
    "# Setup"
   ]
  },
  {
   "cell_type": "markdown",
   "metadata": {},
   "source": [
    "Import libraries and see the schema and data."
   ]
  },
  {
   "cell_type": "code",
   "execution_count": 1,
   "metadata": {
    "collapsed": false
   },
   "outputs": [],
   "source": [
    "import gcp\n",
    "import gcp.bigquery as bq"
   ]
  },
  {
   "cell_type": "code",
   "execution_count": 2,
   "metadata": {
    "collapsed": false
   },
   "outputs": [
    {
     "data": {
      "text/html": [
       "\n",
       "    <div class=\"bqtv\" id=\"1_144356720440\"></div>\n",
       "    <br />(rows: 5, time: 3.1s,    24MB processed, job: job_jQtFT2UeMUQaLPnDgMIOV_vG1Zk)<br />\n",
       "    <script>\n",
       "      require(['extensions/charting', 'element!1_144356720440', 'style!/static/extensions/charting.css'],\n",
       "        function(charts, dom) {\n",
       "          charts.render(dom,\n",
       "            {\n",
       "              chartStyle:\"table\",\n",
       "              dataName:\"0\",\n",
       "              fields:\"timestamp,latency,status,method,endpoint\",\n",
       "              totalRows:5,\n",
       "              rowsPerPage:25,\n",
       "            }, {}, {\"rows\": [{\"c\": [{\"v\": \"2014-06-15T07:00:00.003772\"}, {\"v\": 122}, {\"v\": 200}, {\"v\": \"GET\"}, {\"v\": \"Interact3\"}]}, {\"c\": [{\"v\": \"2014-06-15T07:00:00.428897\"}, {\"v\": 144}, {\"v\": 200}, {\"v\": \"GET\"}, {\"v\": \"Interact3\"}]}, {\"c\": [{\"v\": \"2014-06-15T07:00:00.536486\"}, {\"v\": 48}, {\"v\": 200}, {\"v\": \"GET\"}, {\"v\": \"Interact3\"}]}, {\"c\": [{\"v\": \"2014-06-15T07:00:00.652760\"}, {\"v\": 28}, {\"v\": 405}, {\"v\": \"GET\"}, {\"v\": \"Interact2\"}]}, {\"c\": [{\"v\": \"2014-06-15T07:00:00.670100\"}, {\"v\": 103}, {\"v\": 200}, {\"v\": \"GET\"}, {\"v\": \"Interact3\"}]}], \"cols\": [{\"type\": \"datetime\", \"id\": \"timestamp\", \"label\": \"timestamp\"}, {\"type\": \"number\", \"id\": \"latency\", \"label\": \"latency\"}, {\"type\": \"number\", \"id\": \"status\", \"label\": \"status\"}, {\"type\": \"string\", \"id\": \"method\", \"label\": \"method\"}, {\"type\": \"string\", \"id\": \"endpoint\", \"label\": \"endpoint\"}]});\n",
       "        }\n",
       "      );\n",
       "    </script>\n",
       "  "
      ],
      "text/plain": []
     },
     "execution_count": 2,
     "metadata": {},
     "output_type": "execute_result"
    }
   ],
   "source": [
    "%%sql\n",
    "SELECT * FROM [cloud-datalab:sampledata.requestlogs_20140615] LIMIT 5"
   ]
  },
  {
   "cell_type": "code",
   "execution_count": 3,
   "metadata": {
    "collapsed": false
   },
   "outputs": [
    {
     "data": {
      "text/html": [
       "\n",
       "    <div class=\"bqtv\" id=\"2_144356720663\"></div>\n",
       "    <br />(rows: 3, time: 1.7s,    10MB processed, job: job_G4VkLgefejlvWBNmXjtgypwdQng)<br />\n",
       "    <script>\n",
       "      require(['extensions/charting', 'element!2_144356720663', 'style!/static/extensions/charting.css'],\n",
       "        function(charts, dom) {\n",
       "          charts.render(dom,\n",
       "            {\n",
       "              chartStyle:\"table\",\n",
       "              dataName:\"1\",\n",
       "              fields:\"endpoint,statcount\",\n",
       "              totalRows:3,\n",
       "              rowsPerPage:25,\n",
       "            }, {}, {\"rows\": [{\"c\": [{\"v\": \"Create\"}, {\"v\": 49}]}, {\"c\": [{\"v\": \"Interact2\"}, {\"v\": 4}]}, {\"c\": [{\"v\": \"Other\"}, {\"v\": 20}]}], \"cols\": [{\"type\": \"string\", \"id\": \"endpoint\", \"label\": \"endpoint\"}, {\"type\": \"number\", \"id\": \"statcount\", \"label\": \"statcount\"}]});\n",
       "        }\n",
       "      );\n",
       "    </script>\n",
       "  "
      ],
      "text/plain": []
     },
     "execution_count": 3,
     "metadata": {},
     "output_type": "execute_result"
    }
   ],
   "source": [
    "%%sql\n",
    "SELECT endpoint, count(status) statcount\n",
    "FROM [cloud-datalab:sampledata.requestlogs_20140615]\n",
    "WHERE status = 401\n",
    "GROUP BY endpoint\n",
    "ORDER BY endpoint"
   ]
  },
  {
   "cell_type": "markdown",
   "metadata": {},
   "source": [
    "# Module and Parameters"
   ]
  },
  {
   "cell_type": "markdown",
   "metadata": {},
   "source": [
    "The following cell uses the name StatusQueries to group a set of related queries in a module. Outside of the cell the module name needs to be used to refer to one of the queries.\n",
    "\n",
    "The queries themselves are defined for later use with the DEFINE QUERY construct. These queries are not immediately executed. They contain named parameters like \"endpt\" that are given default values and referred to with '$' prefix inside the SQL statement. Notice that the queries are not strings and in order to replace parameters, you do not need to do awkward string processing."
   ]
  },
  {
   "cell_type": "code",
   "execution_count": 4,
   "metadata": {
    "collapsed": false
   },
   "outputs": [],
   "source": [
    "%%sql --module StatusQueries\n",
    "endpt = 'Admin'\n",
    "stat = 401\n",
    "\n",
    "DEFINE QUERY ErrorCountByEndpt\n",
    "SELECT status, count(status) statcount\n",
    "FROM [cloud-datalab:sampledata.requestlogs_20140615]\n",
    "WHERE endpoint = $endpt\n",
    "AND status > 399\n",
    "GROUP BY status\n",
    "ORDER BY status\n",
    "\n",
    "DEFINE QUERY CountForStatus\n",
    "SELECT endpoint, count(status) statcount\n",
    "FROM [cloud-datalab:sampledata.requestlogs_20140615]\n",
    "WHERE status = $stat\n",
    "GROUP BY endpoint\n",
    "ORDER BY endpoint"
   ]
  },
  {
   "cell_type": "markdown",
   "metadata": {},
   "source": [
    "The queries above are just plain SQL queries. They are not bound to any particular SQL implementation. In order to use the SQL, we need to identify a SQL implementation as the executor. Let's use BigQuery as the executor since the data we are working with is in BigQuery.\n",
    "\n",
    "As a first step, let's see the expanded query that would get executed - first with default and then with a non-default value. Note that single line syntax is %bigquery while multi-line cells use %%bigquery following the IPython syntax. When using non-default values we can use either JSON or YAML to specify the overridden values; in our example we are using JSON:"
   ]
  },
  {
   "cell_type": "code",
   "execution_count": 5,
   "metadata": {
    "collapsed": false
   },
   "outputs": [
    {
     "name": "stdout",
     "output_type": "stream",
     "text": [
      "SELECT status, count(status) statcount\n",
      "FROM [cloud-datalab:sampledata.requestlogs_20140615]\n",
      "WHERE endpoint = \"Admin\"\n",
      "AND status > 399\n",
      "GROUP BY status\n",
      "ORDER BY status\n"
     ]
    },
    {
     "data": {
      "text/html": [
       "\n",
       "    <p>Dry run information:    10MB to process, results not cached</p>\n",
       "    "
      ],
      "text/plain": [
       "<gcp.bigquery._query_stats.QueryStats instance at 0x7f56718b7ea8>"
      ]
     },
     "execution_count": 5,
     "metadata": {},
     "output_type": "execute_result"
    }
   ],
   "source": [
    "%bigquery pipeline --query StatusQueries.ErrorCountByEndpt"
   ]
  },
  {
   "cell_type": "code",
   "execution_count": 6,
   "metadata": {
    "collapsed": false
   },
   "outputs": [
    {
     "name": "stdout",
     "output_type": "stream",
     "text": [
      "SELECT status, count(status) statcount\n",
      "FROM [cloud-datalab:sampledata.requestlogs_20140615]\n",
      "WHERE endpoint = \"Other\"\n",
      "AND status > 399\n",
      "GROUP BY status\n",
      "ORDER BY status\n"
     ]
    },
    {
     "data": {
      "text/html": [
       "\n",
       "    <p>Dry run information:    10MB to process, results not cached</p>\n",
       "    "
      ],
      "text/plain": [
       "<gcp.bigquery._query_stats.QueryStats instance at 0x7f56718b0c20>"
      ]
     },
     "execution_count": 6,
     "metadata": {},
     "output_type": "execute_result"
    }
   ],
   "source": [
    "%%bigquery pipeline --query StatusQueries.ErrorCountByEndpt\n",
    "{\n",
    "  \"endpt\": \"Other\"\n",
    "}"
   ]
  },
  {
   "cell_type": "markdown",
   "metadata": {},
   "source": [
    "The same can be accomplished with the more conventional APIs in Python code as well as shown below."
   ]
  },
  {
   "cell_type": "code",
   "execution_count": 7,
   "metadata": {
    "collapsed": false
   },
   "outputs": [
    {
     "data": {
      "text/html": [
       "<pre>SELECT status, count(status) statcount\n",
       "FROM [cloud-datalab:sampledata.requestlogs_20140615]\n",
       "WHERE endpoint = \"Admin\"\n",
       "AND status &gt; 399\n",
       "GROUP BY status\n",
       "ORDER BY status</pre>"
      ],
      "text/plain": [
       "SELECT status, count(status) statcount\n",
       "FROM [cloud-datalab:sampledata.requestlogs_20140615]\n",
       "WHERE endpoint = \"Admin\"\n",
       "AND status > 399\n",
       "GROUP BY status\n",
       "ORDER BY status"
      ]
     },
     "execution_count": 7,
     "metadata": {},
     "output_type": "execute_result"
    }
   ],
   "source": [
    "bq.Query(StatusQueries.ErrorCountByEndpt)"
   ]
  },
  {
   "cell_type": "code",
   "execution_count": 8,
   "metadata": {
    "collapsed": false
   },
   "outputs": [
    {
     "data": {
      "text/html": [
       "<pre>SELECT status, count(status) statcount\n",
       "FROM [cloud-datalab:sampledata.requestlogs_20140615]\n",
       "WHERE endpoint = \"Other\"\n",
       "AND status &gt; 399\n",
       "GROUP BY status\n",
       "ORDER BY status</pre>"
      ],
      "text/plain": [
       "SELECT status, count(status) statcount\n",
       "FROM [cloud-datalab:sampledata.requestlogs_20140615]\n",
       "WHERE endpoint = \"Other\"\n",
       "AND status > 399\n",
       "GROUP BY status\n",
       "ORDER BY status"
      ]
     },
     "execution_count": 8,
     "metadata": {},
     "output_type": "execute_result"
    }
   ],
   "source": [
    "bq.Query(StatusQueries.ErrorCountByEndpt, endpt='Other')"
   ]
  },
  {
   "cell_type": "markdown",
   "metadata": {},
   "source": [
    "Let's execute the query and put the results into a dataframe."
   ]
  },
  {
   "cell_type": "code",
   "execution_count": 9,
   "metadata": {
    "collapsed": false
   },
   "outputs": [
    {
     "data": {
      "text/html": [
       "<div>\n",
       "<table border=\"1\" class=\"dataframe\">\n",
       "  <thead>\n",
       "    <tr style=\"text-align: right;\">\n",
       "      <th></th>\n",
       "      <th>status</th>\n",
       "      <th>statcount</th>\n",
       "    </tr>\n",
       "  </thead>\n",
       "  <tbody>\n",
       "    <tr>\n",
       "      <th>0</th>\n",
       "      <td>400</td>\n",
       "      <td>1427</td>\n",
       "    </tr>\n",
       "    <tr>\n",
       "      <th>1</th>\n",
       "      <td>401</td>\n",
       "      <td>20</td>\n",
       "    </tr>\n",
       "    <tr>\n",
       "      <th>2</th>\n",
       "      <td>404</td>\n",
       "      <td>11860</td>\n",
       "    </tr>\n",
       "    <tr>\n",
       "      <th>3</th>\n",
       "      <td>405</td>\n",
       "      <td>27</td>\n",
       "    </tr>\n",
       "    <tr>\n",
       "      <th>4</th>\n",
       "      <td>500</td>\n",
       "      <td>325</td>\n",
       "    </tr>\n",
       "    <tr>\n",
       "      <th>5</th>\n",
       "      <td>503</td>\n",
       "      <td>36</td>\n",
       "    </tr>\n",
       "  </tbody>\n",
       "</table>\n",
       "</div>"
      ],
      "text/plain": [
       "   status  statcount\n",
       "0     400       1427\n",
       "1     401         20\n",
       "2     404      11860\n",
       "3     405         27\n",
       "4     500        325\n",
       "5     503         36"
      ]
     },
     "execution_count": 9,
     "metadata": {},
     "output_type": "execute_result"
    }
   ],
   "source": [
    "df = bq.Query(StatusQueries.ErrorCountByEndpt, endpt='Other').to_dataframe()\n",
    "df[:10]"
   ]
  },
  {
   "cell_type": "markdown",
   "metadata": {},
   "source": [
    "# Exploratory Query in Module"
   ]
  },
  {
   "cell_type": "markdown",
   "metadata": {},
   "source": [
    "Sometimes it is convenient to just try out the queries defined in a module right there in the same cell that defines the module. You can add a query at the end without a name. When the cell is executed, the last, unnamed query will be run in addition to the module definition being added to the notebook state.\n",
    "Here we will reuse the same queries with a different module name and add one more query at the end without a name."
   ]
  },
  {
   "cell_type": "code",
   "execution_count": 10,
   "metadata": {
    "collapsed": false
   },
   "outputs": [],
   "source": [
    "%%sql --module StatusQueries2\n",
    "endpt = 'Admin'\n",
    "stat = 401\n",
    "\n",
    "DEFINE QUERY ErrorCountByEndpt\n",
    "SELECT status, count(status) statcount\n",
    "FROM [cloud-datalab:sampledata.requestlogs_20140615]\n",
    "WHERE endpoint = $endpt\n",
    "AND status > 399\n",
    "GROUP BY status\n",
    "ORDER BY status\n",
    "\n",
    "SELECT *\n",
    "FROM $ErrorCountByEndpt\n",
    "WHERE status = 500"
   ]
  },
  {
   "cell_type": "markdown",
   "metadata": {},
   "source": [
    "The last query without \"DEFINE QUERY\" and name becomes the default query of the module and can be executed as follows in another cell."
   ]
  },
  {
   "cell_type": "code",
   "execution_count": 11,
   "metadata": {
    "collapsed": false
   },
   "outputs": [
    {
     "data": {
      "text/html": [
       "\n",
       "    <div class=\"bqtv\" id=\"3_144356721611\"></div>\n",
       "    <br />(rows: 1, time: 3.7s,    10MB processed, job: job__J-RFl-1zL8_SaQK-FgkxuxTsdg)<br />\n",
       "    <script>\n",
       "      require(['extensions/charting', 'element!3_144356721611', 'style!/static/extensions/charting.css'],\n",
       "        function(charts, dom) {\n",
       "          charts.render(dom,\n",
       "            {\n",
       "              chartStyle:\"table\",\n",
       "              dataName:\"2\",\n",
       "              fields:\"status,statcount\",\n",
       "              totalRows:1,\n",
       "              rowsPerPage:25,\n",
       "            }, {}, {\"rows\": [{\"c\": [{\"v\": 500}, {\"v\": 24}]}], \"cols\": [{\"type\": \"number\", \"id\": \"status\", \"label\": \"status\"}, {\"type\": \"number\", \"id\": \"statcount\", \"label\": \"statcount\"}]});\n",
       "        }\n",
       "      );\n",
       "    </script>\n",
       "  "
      ],
      "text/plain": []
     },
     "execution_count": 11,
     "metadata": {},
     "output_type": "execute_result"
    }
   ],
   "source": [
    "%bigquery execute --query StatusQueries2"
   ]
  }
 ],
 "metadata": {
  "kernelspec": {
   "display_name": "Python 2",
   "language": "python",
   "name": "python2"
  },
  "language_info": {
   "codemirror_mode": {
    "name": "ipython",
    "version": 2
   },
   "file_extension": ".py",
   "mimetype": "text/x-python",
   "name": "python",
   "nbconvert_exporter": "python",
   "pygments_lexer": "ipython2",
   "version": "2.7.9"
  }
 },
 "nbformat": 4,
 "nbformat_minor": 0
}
