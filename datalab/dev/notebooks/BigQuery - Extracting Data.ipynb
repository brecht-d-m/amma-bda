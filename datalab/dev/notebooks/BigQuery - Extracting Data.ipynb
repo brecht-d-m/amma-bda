{
 "cells": [
  {
   "cell_type": "markdown",
   "metadata": {},
   "source": [
    "# BigQuery - Extracting Data\n",
    "\n",
    "This notebook demonstrates how you can run a SQL query to extract data from BigQuery and stream the results to a local file, or to a file in GCS, rather than into memory. This maybe useful for resultsets that are too large to directly fit into memory all at once.\n",
    "\n",
    "This notebook uses a sample dataset of request logs data from a web server.\n",
    "\n",
    "Related Links:\n",
    "\n",
    "* [BigQuery](https://cloud.google.com/bigquery/)\n",
    "* BigQuery [SQL reference](https://cloud.google.com/bigquery/query-reference)\n",
    "\n",
    "----\n",
    "\n",
    "NOTE:\n",
    "\n",
    "* If you're new to notebooks, or want to check out additional samples, check out the full [list](..) of notebooks."
   ]
  },
  {
   "cell_type": "code",
   "execution_count": 1,
   "metadata": {
    "collapsed": false
   },
   "outputs": [],
   "source": [
    "import gcp\n",
    "import gcp.bigquery as bq\n",
    "import gcp.storage as gcs"
   ]
  },
  {
   "cell_type": "markdown",
   "metadata": {},
   "source": [
    "# Querying BigQuery"
   ]
  },
  {
   "cell_type": "markdown",
   "metadata": {},
   "source": [
    "First we'll define the query we want to use to retrieve results."
   ]
  },
  {
   "cell_type": "code",
   "execution_count": 2,
   "metadata": {
    "collapsed": false
   },
   "outputs": [],
   "source": [
    "%%sql --module data\n",
    "SELECT * FROM [cloud-datalab:sampledata.requestlogs_20140615] LIMIT 100000"
   ]
  },
  {
   "cell_type": "markdown",
   "metadata": {},
   "source": [
    "Lets sample it, to get a sense of the data that will be extracted when the full query is executed."
   ]
  },
  {
   "cell_type": "code",
   "execution_count": 3,
   "metadata": {
    "collapsed": false
   },
   "outputs": [
    {
     "data": {
      "text/html": [
       "\n",
       "    <div class=\"bqtv\" id=\"1_144356700285\"></div>\n",
       "    <br />(rows: 5, time: 3.0s,    24MB processed, job: job_dIR5e14WcrAjn1y4QCT17jiTG0k)<br />\n",
       "    <script>\n",
       "      require(['extensions/charting', 'element!1_144356700285', 'style!/static/extensions/charting.css'],\n",
       "        function(charts, dom) {\n",
       "          charts.render(dom,\n",
       "            {\n",
       "              chartStyle:\"table\",\n",
       "              dataName:\"0\",\n",
       "              fields:\"timestamp,latency,status,method,endpoint\",\n",
       "              totalRows:5,\n",
       "              rowsPerPage:25,\n",
       "            }, {}, {\"rows\": [{\"c\": [{\"v\": \"2014-06-15T07:00:00.003772\"}, {\"v\": 122}, {\"v\": 200}, {\"v\": \"GET\"}, {\"v\": \"Interact3\"}]}, {\"c\": [{\"v\": \"2014-06-15T07:00:00.428897\"}, {\"v\": 144}, {\"v\": 200}, {\"v\": \"GET\"}, {\"v\": \"Interact3\"}]}, {\"c\": [{\"v\": \"2014-06-15T07:00:00.536486\"}, {\"v\": 48}, {\"v\": 200}, {\"v\": \"GET\"}, {\"v\": \"Interact3\"}]}, {\"c\": [{\"v\": \"2014-06-15T07:00:00.652760\"}, {\"v\": 28}, {\"v\": 405}, {\"v\": \"GET\"}, {\"v\": \"Interact2\"}]}, {\"c\": [{\"v\": \"2014-06-15T07:00:00.670100\"}, {\"v\": 103}, {\"v\": 200}, {\"v\": \"GET\"}, {\"v\": \"Interact3\"}]}], \"cols\": [{\"type\": \"datetime\", \"id\": \"timestamp\", \"label\": \"timestamp\"}, {\"type\": \"number\", \"id\": \"latency\", \"label\": \"latency\"}, {\"type\": \"number\", \"id\": \"status\", \"label\": \"status\"}, {\"type\": \"string\", \"id\": \"method\", \"label\": \"method\"}, {\"type\": \"string\", \"id\": \"endpoint\", \"label\": \"endpoint\"}]});\n",
       "        }\n",
       "      );\n",
       "    </script>\n",
       "  "
      ],
      "text/plain": []
     },
     "execution_count": 3,
     "metadata": {},
     "output_type": "execute_result"
    }
   ],
   "source": [
    "bq.Query(data).sample()"
   ]
  },
  {
   "cell_type": "markdown",
   "metadata": {},
   "source": [
    "# Extracting Results to a Local File"
   ]
  },
  {
   "cell_type": "markdown",
   "metadata": {},
   "source": [
    "You can use the `to_file` method on the query object to stream down results. Note that this can take some while for all the data to become available locally."
   ]
  },
  {
   "cell_type": "code",
   "execution_count": 4,
   "metadata": {
    "collapsed": false
   },
   "outputs": [
    {
     "data": {
      "text/plain": [
       "'/tmp/data.csv'"
      ]
     },
     "execution_count": 4,
     "metadata": {},
     "output_type": "execute_result"
    }
   ],
   "source": [
    "bq.Query(data).to_file('/tmp/data.csv')"
   ]
  },
  {
   "cell_type": "markdown",
   "metadata": {},
   "source": [
    "To verify, lets open the file and read a few lines in. We expect to see the column headers in the first line, followed by a sample of individual data rows seen earlier."
   ]
  },
  {
   "cell_type": "code",
   "execution_count": 5,
   "metadata": {
    "collapsed": false
   },
   "outputs": [
    {
     "name": "stdout",
     "output_type": "stream",
     "text": [
      "timestamp,latency,status,method,endpoint\r\n",
      "2014-06-15 07:00:00.003772,122,200,GET,Interact3\r\n",
      "2014-06-15 07:00:00.428897,144,200,GET,Interact3\r\n",
      "2014-06-15 07:00:00.536486,48,200,GET,Interact3\r\n",
      "2014-06-15 07:00:00.652760,28,405,GET,Interact2\r\n",
      "2014-06-15 07:00:00.670100,103,200,GET,Interact3\r\n",
      "\n"
     ]
    }
   ],
   "source": [
    "with open('/tmp/data.csv') as datafile:\n",
    "    head = [next(datafile) for x in xrange(6)]\n",
    "print ''.join(head)"
   ]
  },
  {
   "cell_type": "code",
   "execution_count": 6,
   "metadata": {
    "collapsed": false
   },
   "outputs": [
    {
     "name": "stdout",
     "output_type": "stream",
     "text": [
      "-rw-r--r-- 1 root root 4668222 Sep 29 22:50 /tmp/data.csv\n"
     ]
    }
   ],
   "source": [
    "%%bash\n",
    "ls -l /tmp/data.csv"
   ]
  },
  {
   "cell_type": "markdown",
   "metadata": {},
   "source": [
    "# Extracting Results to a GCS Bucket"
   ]
  },
  {
   "cell_type": "markdown",
   "metadata": {},
   "source": [
    "Instead of streaming results into the local VM, it might be more useful to stream the results into GCS, and then read from GCS as needed."
   ]
  },
  {
   "cell_type": "markdown",
   "metadata": {},
   "source": [
    "For the purposes of the sample, this code uses the current project id to create a reference to a GCS bucket that can be written to - specifically the same bucket that contains these sample notebooks. For the purposes of this job, we'll have BigQuery write out using 2 workers."
   ]
  },
  {
   "cell_type": "code",
   "execution_count": 7,
   "metadata": {
    "collapsed": false
   },
   "outputs": [],
   "source": [
    "gcs_bucket_name = gcp.Context.default().project_id + '-datalab'\n",
    "gcs_bucket = gcs.Bucket(gcs_bucket_name)\n",
    "gcs_path_prefix = 'gs://%s/data/logs' % gcs_bucket_name"
   ]
  },
  {
   "cell_type": "code",
   "execution_count": 8,
   "metadata": {
    "collapsed": false
   },
   "outputs": [
    {
     "data": {
      "text/plain": [
       "Job job_HwYXcx7B-gXzYNkJCQXNvqFUKP4 completed"
      ]
     },
     "execution_count": 8,
     "metadata": {},
     "output_type": "execute_result"
    }
   ],
   "source": [
    "if not gcs_bucket.exists():\n",
    "    gcs_bucket.create()\n",
    "bq.Query(data).extract([gcs_path_prefix + '-1-*.csv', gcs_path_prefix + '-2-*.csv'])"
   ]
  },
  {
   "cell_type": "markdown",
   "metadata": {},
   "source": [
    "Once the job is complete, we can enumerate the GCS bucket to look for the written out file objects."
   ]
  },
  {
   "cell_type": "code",
   "execution_count": 9,
   "metadata": {
    "collapsed": false
   },
   "outputs": [
    {
     "data": {
      "text/plain": [
       "[u'data/logs-1-000000000000.csv',\n",
       " u'data/logs-1-000000000001.csv',\n",
       " u'data/logs-2-000000000000.csv']"
      ]
     },
     "execution_count": 9,
     "metadata": {},
     "output_type": "execute_result"
    }
   ],
   "source": [
    "map(lambda item: item.key, list(gcs_bucket.items(prefix='data/')))"
   ]
  },
  {
   "cell_type": "code",
   "execution_count": null,
   "metadata": {
    "collapsed": false
   },
   "outputs": [],
   "source": []
  }
 ],
 "metadata": {
  "kernelspec": {
   "display_name": "Python 2",
   "language": "python",
   "name": "python2"
  },
  "language_info": {
   "codemirror_mode": {
    "name": "ipython",
    "version": 2
   },
   "file_extension": ".py",
   "mimetype": "text/x-python",
   "name": "python",
   "nbconvert_exporter": "python",
   "pygments_lexer": "ipython2",
   "version": "2.7.9"
  }
 },
 "nbformat": 4,
 "nbformat_minor": 0
}
